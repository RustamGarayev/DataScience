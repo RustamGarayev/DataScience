{
 "cells": [
  {
   "cell_type": "markdown",
   "id": "e86d262a",
   "metadata": {},
   "source": [
    "# 1. Load dataset\n",
    "#### In this assignment, you are expected to build an ensemble of different models and train it on cover type dataset.\n",
    "#### You will need to read the data from the file (cover.csv). It contains 581012 samples and 54 attributes for each sample."
   ]
  },
  {
   "cell_type": "code",
   "execution_count": null,
   "id": "15ed4c38",
   "metadata": {},
   "outputs": [],
   "source": [
    "import numpy as np\n",
    "import pandas as pd\n",
    "\n",
    "from sklearn.svm import LinearSVC\n",
    "from sklearn.linear_model import SGDClassifier\n",
    "from sklearn.neural_network import MLPClassifier\n",
    "from sklearn.ensemble import RandomForestClassifier, ExtraTreesClassifier, VotingClassifier\n",
    "\n",
    "from sklearn.model_selection import StratifiedShuffleSplit"
   ]
  },
  {
   "cell_type": "code",
   "execution_count": null,
   "id": "a6eb8f51",
   "metadata": {},
   "outputs": [],
   "source": [
    "df = pd.read_csv('cover.csv')"
   ]
  },
  {
   "cell_type": "code",
   "execution_count": null,
   "id": "860c0c45",
   "metadata": {},
   "outputs": [],
   "source": [
    "X = df.drop(columns='Cover_Type', axis=1)\n",
    "y = df['Cover_Type']"
   ]
  },
  {
   "cell_type": "markdown",
   "id": "4e1768d6",
   "metadata": {},
   "source": [
    "# 2. Prepare dataset\n",
    "#### Split the data into train, validation, and test sets."
   ]
  },
  {
   "cell_type": "code",
   "execution_count": null,
   "id": "f019f361",
   "metadata": {},
   "outputs": [],
   "source": [
    "# Used stratisfied shuffle to split classes evenly. Needed two split for validation and test\n",
    "sss_test = StratifiedShuffleSplit(n_splits=1, test_size=0.2, random_state=9)\n",
    "sss_val = StratifiedShuffleSplit(n_splits=1, test_size=0.2, random_state=9)"
   ]
  },
  {
   "cell_type": "code",
   "execution_count": null,
   "id": "a2284b4b",
   "metadata": {},
   "outputs": [],
   "source": [
    "# train_validation and test split\n",
    "train_index, test_index = list(sss_test.split(X, y))[0]"
   ]
  },
  {
   "cell_type": "code",
   "execution_count": null,
   "id": "dc3e2012",
   "metadata": {},
   "outputs": [],
   "source": [
    "X_train_val, y_train_val = X.iloc[train_index], y.iloc[train_index]\n",
    "X_test, y_test = X.iloc[test_index], y.iloc[test_index]"
   ]
  },
  {
   "cell_type": "code",
   "execution_count": null,
   "id": "b852bdf9",
   "metadata": {},
   "outputs": [],
   "source": [
    "# train validation split\n",
    "tr_index, val_index = list(sss_val.split(X_train_val, y_train_val))[0]"
   ]
  },
  {
   "cell_type": "code",
   "execution_count": null,
   "id": "8bbe43f3",
   "metadata": {},
   "outputs": [],
   "source": [
    "X_train, y_train = X_train_val.iloc[tr_index], y_train_val.iloc[tr_index]\n",
    "X_val, y_val = X_train_val.iloc[val_index], y_train_val.iloc[val_index]"
   ]
  },
  {
   "cell_type": "code",
   "execution_count": null,
   "id": "74f39e75",
   "metadata": {},
   "outputs": [],
   "source": [
    "print(f\"X_train: {X_train.shape}\\nX_val: {X_val.shape}\\nX_test: {X_test.shape}\")"
   ]
  },
  {
   "cell_type": "markdown",
   "id": "697ef3a7",
   "metadata": {},
   "source": [
    "# 3. Modeling\n",
    "#### Train different classifiers on the data. You can train RandomForestClassifier, ExtraTreesClassifier, LinearSVC, SGDClassifier, MLPClassifier, etc. Evaluate their performance using validation set."
   ]
  },
  {
   "cell_type": "markdown",
   "id": "0194e54e",
   "metadata": {},
   "source": [
    "***Random Forest classifier***"
   ]
  },
  {
   "cell_type": "code",
   "execution_count": null,
   "id": "58628c95",
   "metadata": {},
   "outputs": [],
   "source": [
    "rf_clf = RandomForestClassifier(n_estimators=200)"
   ]
  },
  {
   "cell_type": "code",
   "execution_count": null,
   "id": "3c2021a4",
   "metadata": {},
   "outputs": [],
   "source": [
    "rf_clf.fit(X_train, y_train)"
   ]
  },
  {
   "cell_type": "code",
   "execution_count": null,
   "id": "27d61e89",
   "metadata": {},
   "outputs": [],
   "source": [
    "rf_clf.score(X_val, y_val)"
   ]
  },
  {
   "cell_type": "code",
   "execution_count": null,
   "id": "e0098a46",
   "metadata": {},
   "outputs": [],
   "source": [
    "rf_preds = rf_clf.predict(X_val)"
   ]
  },
  {
   "cell_type": "markdown",
   "id": "7997d8f1",
   "metadata": {},
   "source": [
    "***Extra Tree classifier***"
   ]
  },
  {
   "cell_type": "code",
   "execution_count": null,
   "id": "e7f32a6f",
   "metadata": {},
   "outputs": [],
   "source": [
    "et_clf = ExtraTreesClassifier(n_estimators=200)"
   ]
  },
  {
   "cell_type": "code",
   "execution_count": null,
   "id": "63fb5b5d",
   "metadata": {},
   "outputs": [],
   "source": [
    "et_clf.fit(X_train, y_train)"
   ]
  },
  {
   "cell_type": "code",
   "execution_count": null,
   "id": "661c4467",
   "metadata": {},
   "outputs": [],
   "source": [
    "et_clf.score(X_val, y_val)"
   ]
  },
  {
   "cell_type": "code",
   "execution_count": null,
   "id": "6e0cc1df",
   "metadata": {},
   "outputs": [],
   "source": [
    "et_preds = et_clf.predict(X_val)"
   ]
  },
  {
   "cell_type": "markdown",
   "id": "74430991",
   "metadata": {},
   "source": [
    "***LinearSVC classifier***"
   ]
  },
  {
   "cell_type": "code",
   "execution_count": null,
   "id": "eb6c8050",
   "metadata": {},
   "outputs": [],
   "source": [
    "svc_clf = LinearSVC()"
   ]
  },
  {
   "cell_type": "code",
   "execution_count": null,
   "id": "cd007c02",
   "metadata": {},
   "outputs": [],
   "source": [
    "svc_clf.fit(X_train, y_train)"
   ]
  },
  {
   "cell_type": "code",
   "execution_count": null,
   "id": "d0492981",
   "metadata": {},
   "outputs": [],
   "source": [
    "svc_clf.score(X_val, y_val)"
   ]
  },
  {
   "cell_type": "code",
   "execution_count": null,
   "id": "fb4761be",
   "metadata": {},
   "outputs": [],
   "source": [
    "svc_preds = svc_clf.predict(X_val)"
   ]
  },
  {
   "cell_type": "markdown",
   "id": "11423fee",
   "metadata": {},
   "source": [
    "***SGD classifier***"
   ]
  },
  {
   "cell_type": "code",
   "execution_count": null,
   "id": "92255fc1",
   "metadata": {},
   "outputs": [],
   "source": [
    "sgd_clf = SGDClassifier()"
   ]
  },
  {
   "cell_type": "code",
   "execution_count": null,
   "id": "2dd8049f",
   "metadata": {},
   "outputs": [],
   "source": [
    "sgd_clf.fit(X_train, y_train)"
   ]
  },
  {
   "cell_type": "code",
   "execution_count": null,
   "id": "0f8c0f58",
   "metadata": {},
   "outputs": [],
   "source": [
    "sgd_clf.score(X_val, y_val)"
   ]
  },
  {
   "cell_type": "code",
   "execution_count": null,
   "id": "5eaf2e30",
   "metadata": {},
   "outputs": [],
   "source": [
    "sgd_preds = sgd_clf.predict(X_val)"
   ]
  },
  {
   "cell_type": "markdown",
   "id": "640febcf",
   "metadata": {},
   "source": [
    "***MLP classifier***"
   ]
  },
  {
   "cell_type": "code",
   "execution_count": null,
   "id": "8d2cf2c4",
   "metadata": {},
   "outputs": [],
   "source": [
    "mlp_clf = MLPClassifier()"
   ]
  },
  {
   "cell_type": "code",
   "execution_count": null,
   "id": "ce5d290b",
   "metadata": {},
   "outputs": [],
   "source": [
    "mlp_clf.fit(X_train, y_train)"
   ]
  },
  {
   "cell_type": "code",
   "execution_count": null,
   "id": "20665b95",
   "metadata": {},
   "outputs": [],
   "source": [
    "mlp_clf.score(X_val, y_val)"
   ]
  },
  {
   "cell_type": "code",
   "execution_count": null,
   "id": "e8918f96",
   "metadata": {},
   "outputs": [],
   "source": [
    "mlp_preds = mlp_clf.predict(X_val)"
   ]
  },
  {
   "cell_type": "markdown",
   "id": "fb251068",
   "metadata": {},
   "source": [
    "# 4. Ensembling\n",
    "#### Createing a hard and soft voting classifier using the models we have trained. We will use VotingClassifier and check its performance on the validatioin set."
   ]
  },
  {
   "cell_type": "markdown",
   "id": "8b9ea26b",
   "metadata": {},
   "source": [
    "***Hard Ensembling***"
   ]
  },
  {
   "cell_type": "code",
   "execution_count": null,
   "id": "b7a4bad4",
   "metadata": {},
   "outputs": [],
   "source": [
    "eh_clf = VotingClassifier(\n",
    "    estimators=[('rf', rf_clf), ('et', et_clf), ('sgd', sgd_clf), ('mlp', mlp_clf)], voting='hard'\n",
    ")"
   ]
  },
  {
   "cell_type": "code",
   "execution_count": null,
   "id": "136dc448",
   "metadata": {},
   "outputs": [],
   "source": [
    "eh_clf.fit(X_train, y_train)"
   ]
  },
  {
   "cell_type": "code",
   "execution_count": null,
   "id": "8a8d59eb",
   "metadata": {},
   "outputs": [],
   "source": [
    "eh_clf.score(X_val, y_val)"
   ]
  },
  {
   "cell_type": "code",
   "execution_count": null,
   "id": "7f7d544f",
   "metadata": {},
   "outputs": [],
   "source": [
    "eh_preds = eh_clf.predict(X_val)"
   ]
  },
  {
   "cell_type": "markdown",
   "id": "cdb45065",
   "metadata": {},
   "source": [
    "***Soft Ensembling***"
   ]
  },
  {
   "cell_type": "code",
   "execution_count": null,
   "id": "ae1a605d",
   "metadata": {},
   "outputs": [],
   "source": [
    "es_clf = VotingClassifier(\n",
    "    estimators=[('rf', rf_clf), ('et', et_clf), ('mlp', mlp_clf)], voting='soft'\n",
    ")"
   ]
  },
  {
   "cell_type": "code",
   "execution_count": null,
   "id": "8e3ecc3b",
   "metadata": {},
   "outputs": [],
   "source": [
    "es_clf.fit(X_train, y_train)"
   ]
  },
  {
   "cell_type": "code",
   "execution_count": null,
   "id": "3f3dbf14",
   "metadata": {},
   "outputs": [],
   "source": [
    "es_clf.score(X_val, y_val)"
   ]
  },
  {
   "cell_type": "code",
   "execution_count": null,
   "id": "b13717de",
   "metadata": {},
   "outputs": [],
   "source": [
    "es_preds = es_clf"
   ]
  },
  {
   "cell_type": "markdown",
   "id": "e3116a3f",
   "metadata": {},
   "source": [
    "#### Making predictions on the validation set using trained models and creating a new training set out of those predictions: each training example will now have predictions of all classifiers as features. Train a new classifier on this new training set. Compare the performances."
   ]
  },
  {
   "cell_type": "code",
   "execution_count": null,
   "id": "40899ca7",
   "metadata": {},
   "outputs": [],
   "source": [
    "all_preds = np.hstack([rf_preds, et_preds, svc_preds, sgd_preds, mlp_preds, eh_preds])"
   ]
  },
  {
   "cell_type": "code",
   "execution_count": null,
   "id": "52a0474c",
   "metadata": {},
   "outputs": [],
   "source": [
    "pred_df = pd.DataFrame(\n",
    "    all_preds,\n",
    "    columns=['ef_preds', 'et_preds', 'svc_preds', 'sgd_preds', 'mlp_preds' ,'eh_preds']\n",
    ")"
   ]
  },
  {
   "cell_type": "code",
   "execution_count": null,
   "id": "8f85cbb9",
   "metadata": {},
   "outputs": [],
   "source": [
    "pred_df.head()"
   ]
  },
  {
   "cell_type": "code",
   "execution_count": null,
   "id": "b06eeb47",
   "metadata": {},
   "outputs": [],
   "source": [
    "pred_df.shape"
   ]
  },
  {
   "cell_type": "code",
   "execution_count": null,
   "id": "137d1774",
   "metadata": {},
   "outputs": [],
   "source": [
    "final_clf = RandomForestClassifier(n_estimators=200)"
   ]
  },
  {
   "cell_type": "code",
   "execution_count": null,
   "id": "fe70ce62",
   "metadata": {},
   "outputs": [],
   "source": [
    "final_clf.fit(pred_df, y_val)"
   ]
  },
  {
   "cell_type": "code",
   "execution_count": null,
   "id": "3071ddfc",
   "metadata": {},
   "outputs": [],
   "source": [
    "X_test.shape"
   ]
  },
  {
   "cell_type": "code",
   "execution_count": null,
   "id": "bce6cbc5",
   "metadata": {},
   "outputs": [],
   "source": [
    "rf_t = rf_clf.predict(X_test)\n",
    "et_t = et_clf.predict(X_test)\n",
    "svc_t = svc_clf.predict(X_test)\n",
    "sgd_t = sgd_clf.predict(X_test)\n",
    "mlp_t = mlp_clf.predict(X_test)\n",
    "eh_t = eh_clf.predict(X_test)"
   ]
  },
  {
   "cell_type": "code",
   "execution_count": null,
   "id": "1b11849b",
   "metadata": {},
   "outputs": [],
   "source": [
    "test_preds = np.hstack([rf_t.reshape(-1, 1), et_t.reshape(-1, 1), svc_t.reshape(-1, 1), \n",
    "                        sgd_t.reshape(-1, 1), mlp_t.reshape(-1, 1), eh_t.reshape(-1, 1)])"
   ]
  },
  {
   "cell_type": "code",
   "execution_count": null,
   "id": "299dde4c",
   "metadata": {},
   "outputs": [],
   "source": [
    "final_clf.score(test_preds, y_test)"
   ]
  }
 ],
 "metadata": {
  "kernelspec": {
   "display_name": "Python 3 (ipykernel)",
   "language": "python",
   "name": "python3"
  },
  "language_info": {
   "codemirror_mode": {
    "name": "ipython",
    "version": 3
   },
   "file_extension": ".py",
   "mimetype": "text/x-python",
   "name": "python",
   "nbconvert_exporter": "python",
   "pygments_lexer": "ipython3",
   "version": "3.9.12"
  }
 },
 "nbformat": 4,
 "nbformat_minor": 5
}
