{
 "cells": [
  {
   "cell_type": "markdown",
   "id": "dc4baa77",
   "metadata": {},
   "source": [
    "# 1. Load dataset"
   ]
  },
  {
   "cell_type": "markdown",
   "id": "9c4c5df2",
   "metadata": {},
   "source": [
    "#### In this notebook, we are building pipeline, doing k-fold cross validation and performing hyperparameter tuning.\n",
    "#### Dataset: mobile phone dataset (mobile_train.csv)."
   ]
  },
  {
   "cell_type": "code",
   "execution_count": 1,
   "id": "c5dfa930",
   "metadata": {},
   "outputs": [],
   "source": [
    "import numpy as np\n",
    "import pandas as pd\n",
    "\n",
    "from sklearn.pipeline import Pipeline\n",
    "from sklearn.decomposition import PCA\n",
    "from sklearn.preprocessing import StandardScaler\n",
    "from sklearn.ensemble import RandomForestClassifier\n",
    "from sklearn.model_selection import train_test_split, GridSearchCV, RandomizedSearchCV"
   ]
  },
  {
   "cell_type": "code",
   "execution_count": 2,
   "id": "99c31a1a",
   "metadata": {},
   "outputs": [],
   "source": [
    "df = pd.read_csv('mobile_train.csv')"
   ]
  },
  {
   "cell_type": "code",
   "execution_count": 3,
   "id": "9ec405a4",
   "metadata": {},
   "outputs": [],
   "source": [
    "# Split the dataset into train and test\n",
    "X = df.drop('price_range', axis=1)\n",
    "Y = df['price_range']\n",
    "seed = 7\n",
    "X_train, X_test, y_train, y_test = train_test_split(X, Y, test_size=0.2, random_state=seed)"
   ]
  },
  {
   "cell_type": "markdown",
   "id": "aa3a97c8",
   "metadata": {},
   "source": [
    "# 2. Tuning"
   ]
  },
  {
   "cell_type": "markdown",
   "id": "3e8df7f9",
   "metadata": {},
   "source": [
    "#### Build a random forest classifier model and perform hyperparameter tuning using grid search. Also applying 5-fold cross validation while doing searching. Following values will be used for the tuning:\n",
    "- n_estimators - 100, 200, 300\n",
    "- max_depth - 5, 7, 9, 11, 13\n",
    "- criterion - gini, entropy"
   ]
  },
  {
   "cell_type": "code",
   "execution_count": 4,
   "id": "1703e3d4",
   "metadata": {},
   "outputs": [],
   "source": [
    "params = {'n_estimators': [100, 200, 300], 'max_depth': [5, 7, 9, 11, 13], 'criterion': ['gini', 'entropy']}\n",
    "\n",
    "clf = GridSearchCV(RandomForestClassifier(), param_grid=params, cv=5)"
   ]
  },
  {
   "cell_type": "code",
   "execution_count": 5,
   "id": "bb7b1539",
   "metadata": {},
   "outputs": [
    {
     "data": {
      "text/plain": [
       "GridSearchCV(cv=5, estimator=RandomForestClassifier(),\n",
       "             param_grid={'criterion': ['gini', 'entropy'],\n",
       "                         'max_depth': [5, 7, 9, 11, 13],\n",
       "                         'n_estimators': [100, 200, 300]})"
      ]
     },
     "execution_count": 5,
     "metadata": {},
     "output_type": "execute_result"
    }
   ],
   "source": [
    "clf.fit(X_train, y_train)"
   ]
  },
  {
   "cell_type": "markdown",
   "id": "5dffd9b3",
   "metadata": {},
   "source": [
    "#### Get the best score and optimal values for hyperparameters."
   ]
  },
  {
   "cell_type": "code",
   "execution_count": 6,
   "id": "be5c36ac",
   "metadata": {},
   "outputs": [
    {
     "data": {
      "text/plain": [
       "{'criterion': 'entropy', 'max_depth': 13, 'n_estimators': 200}"
      ]
     },
     "execution_count": 6,
     "metadata": {},
     "output_type": "execute_result"
    }
   ],
   "source": [
    "clf.best_params_"
   ]
  },
  {
   "cell_type": "code",
   "execution_count": 7,
   "id": "c7051755",
   "metadata": {},
   "outputs": [
    {
     "data": {
      "text/plain": [
       "0.88"
      ]
     },
     "execution_count": 7,
     "metadata": {},
     "output_type": "execute_result"
    }
   ],
   "source": [
    "clf.score(X_test, y_test)"
   ]
  },
  {
   "cell_type": "markdown",
   "id": "ec33b65d",
   "metadata": {},
   "source": [
    "#### Inspecting the values and checking if we could do better with more parameters"
   ]
  },
  {
   "cell_type": "code",
   "execution_count": 8,
   "id": "31fb7abe",
   "metadata": {},
   "outputs": [],
   "source": [
    "# Best parameters: n_estimators: 500, max_depth: unknown yet, criterion: entropy\n",
    "params_best = {'n_estimators': [300, 400, 500, 500], 'max_depth': [13, 15, 17, 19, 21, 23, 25], 'criterion': ['gini', 'entropy']}\n",
    "\n",
    "clf_best = GridSearchCV(RandomForestClassifier(), param_grid=params_best, cv=5)"
   ]
  },
  {
   "cell_type": "code",
   "execution_count": 9,
   "id": "dd9b648d",
   "metadata": {},
   "outputs": [
    {
     "data": {
      "text/plain": [
       "GridSearchCV(cv=5, estimator=RandomForestClassifier(),\n",
       "             param_grid={'criterion': ['gini', 'entropy'],\n",
       "                         'max_depth': [13, 15, 17, 19, 21, 23, 25],\n",
       "                         'n_estimators': [300, 400, 500, 500]})"
      ]
     },
     "execution_count": 9,
     "metadata": {},
     "output_type": "execute_result"
    }
   ],
   "source": [
    "# NOTE: This takes more than 2-3 min\n",
    "clf_best.fit(X_train, y_train)"
   ]
  },
  {
   "cell_type": "code",
   "execution_count": 11,
   "id": "ed7f74e2",
   "metadata": {},
   "outputs": [
    {
     "data": {
      "text/plain": [
       "{'criterion': 'entropy', 'max_depth': 23, 'n_estimators': 400}"
      ]
     },
     "execution_count": 11,
     "metadata": {},
     "output_type": "execute_result"
    }
   ],
   "source": [
    "clf_best.best_params_"
   ]
  },
  {
   "cell_type": "code",
   "execution_count": 12,
   "id": "68b5f37b",
   "metadata": {},
   "outputs": [
    {
     "data": {
      "text/plain": [
       "0.8775"
      ]
     },
     "execution_count": 12,
     "metadata": {},
     "output_type": "execute_result"
    }
   ],
   "source": [
    "clf_best.score(X_test, y_test)"
   ]
  },
  {
   "cell_type": "markdown",
   "id": "bc3740c7",
   "metadata": {},
   "source": [
    "#### Perform hyperparameter tuning using random search. Increase number of iterations if needed"
   ]
  },
  {
   "cell_type": "code",
   "execution_count": 13,
   "id": "b22fd3d8",
   "metadata": {},
   "outputs": [],
   "source": [
    "clf = RandomizedSearchCV(RandomForestClassifier(), params_best, cv=5, random_state=42)"
   ]
  },
  {
   "cell_type": "code",
   "execution_count": 14,
   "id": "6d6d2e9b",
   "metadata": {},
   "outputs": [
    {
     "data": {
      "text/plain": [
       "RandomizedSearchCV(cv=5, estimator=RandomForestClassifier(),\n",
       "                   param_distributions={'criterion': ['gini', 'entropy'],\n",
       "                                        'max_depth': [13, 15, 17, 19, 21, 23,\n",
       "                                                      25],\n",
       "                                        'n_estimators': [300, 400, 500, 500]},\n",
       "                   random_state=42)"
      ]
     },
     "execution_count": 14,
     "metadata": {},
     "output_type": "execute_result"
    }
   ],
   "source": [
    "clf.fit(X_train, y_train)"
   ]
  },
  {
   "cell_type": "code",
   "execution_count": 15,
   "id": "164c12e2",
   "metadata": {},
   "outputs": [
    {
     "data": {
      "text/plain": [
       "{'n_estimators': 300, 'max_depth': 21, 'criterion': 'entropy'}"
      ]
     },
     "execution_count": 15,
     "metadata": {},
     "output_type": "execute_result"
    }
   ],
   "source": [
    "clf.best_params_"
   ]
  },
  {
   "cell_type": "code",
   "execution_count": 16,
   "id": "4283818b",
   "metadata": {},
   "outputs": [
    {
     "data": {
      "text/plain": [
       "0.8825"
      ]
     },
     "execution_count": 16,
     "metadata": {},
     "output_type": "execute_result"
    }
   ],
   "source": [
    "clf.score(X_test, y_test)"
   ]
  },
  {
   "cell_type": "markdown",
   "id": "d97565fc",
   "metadata": {},
   "source": [
    "#### Create a pipeline and add standard scaling and dimensionality reduction. We will use StandardScaler and PCA as well as performing tuning by random search. Now we have to provide values for hyperparameters of different components of your pipeline.  Tried to isolate and check the effect of scaling and dimensionality reduction on the model."
   ]
  },
  {
   "cell_type": "markdown",
   "id": "c63bda75",
   "metadata": {},
   "source": [
    "**Pipeline with StandardScalar, PCA and RandomForestClassifier**"
   ]
  },
  {
   "cell_type": "code",
   "execution_count": 17,
   "id": "626e4fdf",
   "metadata": {},
   "outputs": [],
   "source": [
    "pipe = Pipeline(\n",
    "    [\n",
    "        ('scaler', StandardScaler()),\n",
    "        ('pca', PCA()),\n",
    "        ('random_forest', RandomForestClassifier())\n",
    "    ]\n",
    ")"
   ]
  },
  {
   "cell_type": "code",
   "execution_count": 18,
   "id": "bdf01a33",
   "metadata": {},
   "outputs": [],
   "source": [
    "# If multiple preprocessing is done inside pipeline, the hyperparameters should be \n",
    "# given as: <estimator_name>__<hyper_parameter>\n",
    "pipe_params = {\n",
    "    'pca__n_components': [5, 7, 9, 11, 13, 15, 17, 19],\n",
    "    'random_forest__n_estimators': [300, 400, 500, 600], \n",
    "    'random_forest__max_depth': [13, 15, 17, 19, 21, 23, 25],\n",
    "    'random_forest__criterion': ['gini', 'entropy']\n",
    "}\n",
    "\n",
    "pipe_clf = RandomizedSearchCV(pipe, pipe_params, cv=5)"
   ]
  },
  {
   "cell_type": "code",
   "execution_count": 19,
   "id": "b3aab84a",
   "metadata": {},
   "outputs": [
    {
     "data": {
      "text/plain": [
       "RandomizedSearchCV(cv=5,\n",
       "                   estimator=Pipeline(steps=[('scaler', StandardScaler()),\n",
       "                                             ('pca', PCA()),\n",
       "                                             ('random_forest',\n",
       "                                              RandomForestClassifier())]),\n",
       "                   param_distributions={'pca__n_components': [5, 7, 9, 11, 13,\n",
       "                                                              15, 17, 19],\n",
       "                                        'random_forest__criterion': ['gini',\n",
       "                                                                     'entropy'],\n",
       "                                        'random_forest__max_depth': [13, 15, 17,\n",
       "                                                                     19, 21, 23,\n",
       "                                                                     25],\n",
       "                                        'random_forest__n_estimators': [300,\n",
       "                                                                        400,\n",
       "                                                                        500,\n",
       "                                                                        600]})"
      ]
     },
     "execution_count": 19,
     "metadata": {},
     "output_type": "execute_result"
    }
   ],
   "source": [
    "pipe_clf.fit(X_train, y_train)"
   ]
  },
  {
   "cell_type": "code",
   "execution_count": 20,
   "id": "3c7d9cf6",
   "metadata": {},
   "outputs": [
    {
     "data": {
      "text/plain": [
       "{'random_forest__n_estimators': 300,\n",
       " 'random_forest__max_depth': 19,\n",
       " 'random_forest__criterion': 'gini',\n",
       " 'pca__n_components': 17}"
      ]
     },
     "execution_count": 20,
     "metadata": {},
     "output_type": "execute_result"
    }
   ],
   "source": [
    "pipe_clf.best_params_"
   ]
  },
  {
   "cell_type": "code",
   "execution_count": 21,
   "id": "492d3ce1",
   "metadata": {},
   "outputs": [
    {
     "data": {
      "text/plain": [
       "0.6975"
      ]
     },
     "execution_count": 21,
     "metadata": {},
     "output_type": "execute_result"
    }
   ],
   "source": [
    "pipe_clf.score(X_test, y_test)"
   ]
  },
  {
   "cell_type": "markdown",
   "id": "b3f08470",
   "metadata": {},
   "source": [
    "**Pipeline with only StandardScalar and RandomForestClassifier**"
   ]
  },
  {
   "cell_type": "code",
   "execution_count": 22,
   "id": "0d9890bf",
   "metadata": {},
   "outputs": [],
   "source": [
    "pipe_without_pca = Pipeline(\n",
    "    [\n",
    "        ('scaler', StandardScaler()),\n",
    "        ('random_forest', RandomForestClassifier())\n",
    "    ]\n",
    ")"
   ]
  },
  {
   "cell_type": "code",
   "execution_count": 23,
   "id": "24a42de1",
   "metadata": {},
   "outputs": [],
   "source": [
    "pipe_without_pca_params = {\n",
    "    'random_forest__n_estimators': [300, 400, 500, 600], \n",
    "    'random_forest__max_depth': [13, 15, 17, 19, 21, 23, 25],\n",
    "    'random_forest__criterion': ['gini', 'entropy']\n",
    "}\n",
    "\n",
    "pipe_without_pca_clf = RandomizedSearchCV(pipe, pipe_without_pca_params, cv=5)"
   ]
  },
  {
   "cell_type": "code",
   "execution_count": 24,
   "id": "fc69880d",
   "metadata": {},
   "outputs": [
    {
     "data": {
      "text/plain": [
       "RandomizedSearchCV(cv=5,\n",
       "                   estimator=Pipeline(steps=[('scaler', StandardScaler()),\n",
       "                                             ('pca', PCA()),\n",
       "                                             ('random_forest',\n",
       "                                              RandomForestClassifier())]),\n",
       "                   param_distributions={'random_forest__criterion': ['gini',\n",
       "                                                                     'entropy'],\n",
       "                                        'random_forest__max_depth': [13, 15, 17,\n",
       "                                                                     19, 21, 23,\n",
       "                                                                     25],\n",
       "                                        'random_forest__n_estimators': [300,\n",
       "                                                                        400,\n",
       "                                                                        500,\n",
       "                                                                        600]})"
      ]
     },
     "execution_count": 24,
     "metadata": {},
     "output_type": "execute_result"
    }
   ],
   "source": [
    "pipe_without_pca_clf.fit(X_train, y_train)"
   ]
  },
  {
   "cell_type": "code",
   "execution_count": 25,
   "id": "aafd5aa7",
   "metadata": {},
   "outputs": [
    {
     "data": {
      "text/plain": [
       "{'random_forest__n_estimators': 500,\n",
       " 'random_forest__max_depth': 15,\n",
       " 'random_forest__criterion': 'gini'}"
      ]
     },
     "execution_count": 25,
     "metadata": {},
     "output_type": "execute_result"
    }
   ],
   "source": [
    "pipe_without_pca_clf.best_params_"
   ]
  },
  {
   "cell_type": "code",
   "execution_count": 26,
   "id": "59c00216",
   "metadata": {},
   "outputs": [
    {
     "data": {
      "text/plain": [
       "0.6925"
      ]
     },
     "execution_count": 26,
     "metadata": {},
     "output_type": "execute_result"
    }
   ],
   "source": [
    "pipe_without_pca_clf.score(X_test, y_test)"
   ]
  },
  {
   "cell_type": "markdown",
   "id": "d2dc283e",
   "metadata": {},
   "source": [
    "**Pipeline with only PCA and RandomForestClassifier**"
   ]
  },
  {
   "cell_type": "code",
   "execution_count": 27,
   "id": "56b304d6",
   "metadata": {},
   "outputs": [],
   "source": [
    "pipe_without_scalar = Pipeline(\n",
    "    [\n",
    "        ('pca', PCA()),\n",
    "        ('random_forest', RandomForestClassifier())\n",
    "    ]\n",
    ")"
   ]
  },
  {
   "cell_type": "code",
   "execution_count": 28,
   "id": "62815b0f",
   "metadata": {},
   "outputs": [],
   "source": [
    "pipe_without_scalar_params = {\n",
    "    'pca__svd_solver': ['auto', 'full', 'arpack', 'randomized'],\n",
    "    'pca__n_components': [5, 7, 9, 11, 13, 15, 17, 19],\n",
    "    'random_forest__n_estimators': [300, 400, 500, 600], \n",
    "    'random_forest__max_depth': [13, 15, 17, 19, 21, 23, 25],\n",
    "    'random_forest__criterion': ['gini', 'entropy']\n",
    "}\n",
    "\n",
    "pipe_without_scalar_clf = RandomizedSearchCV(pipe, pipe_without_scalar_params, cv=5)"
   ]
  },
  {
   "cell_type": "code",
   "execution_count": 29,
   "id": "0ba398c3",
   "metadata": {},
   "outputs": [
    {
     "data": {
      "text/plain": [
       "RandomizedSearchCV(cv=5,\n",
       "                   estimator=Pipeline(steps=[('scaler', StandardScaler()),\n",
       "                                             ('pca', PCA()),\n",
       "                                             ('random_forest',\n",
       "                                              RandomForestClassifier())]),\n",
       "                   param_distributions={'pca__n_components': [5, 7, 9, 11, 13,\n",
       "                                                              15, 17, 19],\n",
       "                                        'pca__svd_solver': ['auto', 'full',\n",
       "                                                            'arpack',\n",
       "                                                            'randomized'],\n",
       "                                        'random_forest__criterion': ['gini',\n",
       "                                                                     'entropy'],\n",
       "                                        'random_forest__max_depth': [13, 15, 17,\n",
       "                                                                     19, 21, 23,\n",
       "                                                                     25],\n",
       "                                        'random_forest__n_estimators': [300,\n",
       "                                                                        400,\n",
       "                                                                        500,\n",
       "                                                                        600]})"
      ]
     },
     "execution_count": 29,
     "metadata": {},
     "output_type": "execute_result"
    }
   ],
   "source": [
    "pipe_without_scalar_clf.fit(X_train, y_train)"
   ]
  },
  {
   "cell_type": "code",
   "execution_count": 30,
   "id": "91ea6bad",
   "metadata": {},
   "outputs": [
    {
     "data": {
      "text/plain": [
       "{'random_forest__n_estimators': 600,\n",
       " 'random_forest__max_depth': 15,\n",
       " 'random_forest__criterion': 'entropy',\n",
       " 'pca__svd_solver': 'arpack',\n",
       " 'pca__n_components': 17}"
      ]
     },
     "execution_count": 30,
     "metadata": {},
     "output_type": "execute_result"
    }
   ],
   "source": [
    "pipe_without_scalar_clf.best_params_"
   ]
  },
  {
   "cell_type": "code",
   "execution_count": 31,
   "id": "7b504d5c",
   "metadata": {},
   "outputs": [
    {
     "data": {
      "text/plain": [
       "0.68"
      ]
     },
     "execution_count": 31,
     "metadata": {},
     "output_type": "execute_result"
    }
   ],
   "source": [
    "pipe_without_scalar_clf.score(X_test, y_test)"
   ]
  },
  {
   "cell_type": "markdown",
   "id": "e3ce4237",
   "metadata": {},
   "source": [
    "## Conclusion\n",
    "\n",
    "1. Model performed best when no preprocessing done, such as PCA and Scaling (score: 0.8825)\n",
    "2. Model performed worst when only Scaling done before Classification (score: 0.6925)\n",
    "3. Model with both Scaling and PCA did slightly better than that of PCA only (score: 0.6975, 0.68, respectively)"
   ]
  }
 ],
 "metadata": {
  "kernelspec": {
   "display_name": "Python 3 (ipykernel)",
   "language": "python",
   "name": "python3"
  },
  "language_info": {
   "codemirror_mode": {
    "name": "ipython",
    "version": 3
   },
   "file_extension": ".py",
   "mimetype": "text/x-python",
   "name": "python",
   "nbconvert_exporter": "python",
   "pygments_lexer": "ipython3",
   "version": "3.9.12"
  }
 },
 "nbformat": 4,
 "nbformat_minor": 5
}
