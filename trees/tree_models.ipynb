{
 "cells": [
  {
   "cell_type": "markdown",
   "id": "e50f762a",
   "metadata": {},
   "source": [
    "# 1. Load dataset\n",
    "#### In this notebook, we are expected to build a decision tree model that classifies a toy dataset.\n",
    "#### We will need to read the data from the file (data.csv). It contains 15000 samples and two features for each sample."
   ]
  },
  {
   "cell_type": "code",
   "execution_count": 1,
   "id": "e1dbabb6",
   "metadata": {},
   "outputs": [],
   "source": [
    "import numpy as np\n",
    "import pandas as pd\n",
    "import matplotlib.pyplot as plt\n",
    "\n",
    "from sklearn.tree import DecisionTreeClassifier\n",
    "from sklearn.model_selection import train_test_split, GridSearchCV, ShuffleSplit"
   ]
  },
  {
   "cell_type": "code",
   "execution_count": 2,
   "id": "1d7d721e",
   "metadata": {},
   "outputs": [],
   "source": [
    "df = pd.read_csv('data.csv', header=None)"
   ]
  },
  {
   "cell_type": "code",
   "execution_count": 3,
   "id": "360ad69b",
   "metadata": {},
   "outputs": [
    {
     "data": {
      "text/html": [
       "<div>\n",
       "<style scoped>\n",
       "    .dataframe tbody tr th:only-of-type {\n",
       "        vertical-align: middle;\n",
       "    }\n",
       "\n",
       "    .dataframe tbody tr th {\n",
       "        vertical-align: top;\n",
       "    }\n",
       "\n",
       "    .dataframe thead th {\n",
       "        text-align: right;\n",
       "    }\n",
       "</style>\n",
       "<table border=\"1\" class=\"dataframe\">\n",
       "  <thead>\n",
       "    <tr style=\"text-align: right;\">\n",
       "      <th></th>\n",
       "      <th>0</th>\n",
       "      <th>1</th>\n",
       "      <th>2</th>\n",
       "    </tr>\n",
       "  </thead>\n",
       "  <tbody>\n",
       "    <tr>\n",
       "      <th>0</th>\n",
       "      <td>10182.554999</td>\n",
       "      <td>-371.830691</td>\n",
       "      <td>100.0</td>\n",
       "    </tr>\n",
       "    <tr>\n",
       "      <th>1</th>\n",
       "      <td>-8493.323486</td>\n",
       "      <td>7009.446179</td>\n",
       "      <td>0.0</td>\n",
       "    </tr>\n",
       "    <tr>\n",
       "      <th>2</th>\n",
       "      <td>21322.088204</td>\n",
       "      <td>-390.558362</td>\n",
       "      <td>100.0</td>\n",
       "    </tr>\n",
       "    <tr>\n",
       "      <th>3</th>\n",
       "      <td>5473.925002</td>\n",
       "      <td>-1878.223941</td>\n",
       "      <td>0.0</td>\n",
       "    </tr>\n",
       "    <tr>\n",
       "      <th>4</th>\n",
       "      <td>-7422.540710</td>\n",
       "      <td>5291.351276</td>\n",
       "      <td>0.0</td>\n",
       "    </tr>\n",
       "  </tbody>\n",
       "</table>\n",
       "</div>"
      ],
      "text/plain": [
       "              0            1      2\n",
       "0  10182.554999  -371.830691  100.0\n",
       "1  -8493.323486  7009.446179    0.0\n",
       "2  21322.088204  -390.558362  100.0\n",
       "3   5473.925002 -1878.223941    0.0\n",
       "4  -7422.540710  5291.351276    0.0"
      ]
     },
     "execution_count": 3,
     "metadata": {},
     "output_type": "execute_result"
    }
   ],
   "source": [
    "df.head()"
   ]
  },
  {
   "cell_type": "code",
   "execution_count": 4,
   "id": "e82b914b",
   "metadata": {},
   "outputs": [
    {
     "data": {
      "text/plain": [
       "(15000, 3)"
      ]
     },
     "execution_count": 4,
     "metadata": {},
     "output_type": "execute_result"
    }
   ],
   "source": [
    "df.shape"
   ]
  },
  {
   "cell_type": "markdown",
   "id": "5ceacf95",
   "metadata": {},
   "source": [
    "# 2. Prepare dataset\n",
    "#### Split the data into train and test sets."
   ]
  },
  {
   "cell_type": "code",
   "execution_count": 5,
   "id": "0b89aa3a",
   "metadata": {},
   "outputs": [],
   "source": [
    "X = df[[0, 1]]\n",
    "y = df[2]\n",
    "X_train, X_test, y_train, y_test = train_test_split(X, y, test_size=0.25, random_state=42)"
   ]
  },
  {
   "cell_type": "markdown",
   "id": "72d7d6a2",
   "metadata": {},
   "source": [
    "# 3. Modeling\n",
    "#### Train a decision tree classifier on the data. We will use DecisionTreeClassifier as well as grid search to tune the hyperparameters."
   ]
  },
  {
   "cell_type": "code",
   "execution_count": 6,
   "id": "c1bd7e6e",
   "metadata": {},
   "outputs": [],
   "source": [
    "params = {\n",
    "    'criterion':['gini','entropy'],\n",
    "    'max_depth':[3, 5, 7, 9, 11, 13, 15, 20, 30]\n",
    "}\n",
    "\n",
    "clf = GridSearchCV(DecisionTreeClassifier(), param_grid=params, cv=5)"
   ]
  },
  {
   "cell_type": "markdown",
   "id": "2d8d913d",
   "metadata": {},
   "source": [
    "#### Train the best model we found on the whole train set and evaluate the model on the test set."
   ]
  },
  {
   "cell_type": "code",
   "execution_count": 7,
   "id": "2920e6f6",
   "metadata": {},
   "outputs": [
    {
     "data": {
      "text/plain": [
       "GridSearchCV(cv=5, estimator=DecisionTreeClassifier(),\n",
       "             param_grid={'criterion': ['gini', 'entropy'],\n",
       "                         'max_depth': [3, 5, 7, 9, 11, 13, 15, 20, 30]})"
      ]
     },
     "execution_count": 7,
     "metadata": {},
     "output_type": "execute_result"
    }
   ],
   "source": [
    "clf.fit(X_train, y_train)"
   ]
  },
  {
   "cell_type": "code",
   "execution_count": 8,
   "id": "622d1725",
   "metadata": {},
   "outputs": [
    {
     "data": {
      "text/plain": [
       "{'criterion': 'entropy', 'max_depth': 7}"
      ]
     },
     "execution_count": 8,
     "metadata": {},
     "output_type": "execute_result"
    }
   ],
   "source": [
    "clf.best_params_"
   ]
  },
  {
   "cell_type": "code",
   "execution_count": 9,
   "id": "003032e8",
   "metadata": {},
   "outputs": [
    {
     "data": {
      "text/plain": [
       "0.8477333333333333"
      ]
     },
     "execution_count": 9,
     "metadata": {},
     "output_type": "execute_result"
    }
   ],
   "source": [
    "clf.score(X_test, y_test)"
   ]
  },
  {
   "cell_type": "markdown",
   "id": "6ffa5982",
   "metadata": {},
   "source": [
    "#### Generate 1,200 subsets of the training set, each containing 100 randomly chosen instances using ShuffleSplit."
   ]
  },
  {
   "cell_type": "code",
   "execution_count": 10,
   "id": "e1fb1f52",
   "metadata": {},
   "outputs": [],
   "source": [
    "rs = ShuffleSplit(n_splits=1200, train_size=100, random_state=42)"
   ]
  },
  {
   "cell_type": "code",
   "execution_count": 11,
   "id": "4b1c9147",
   "metadata": {},
   "outputs": [
    {
     "data": {
      "text/plain": [
       "1200"
      ]
     },
     "execution_count": 11,
     "metadata": {},
     "output_type": "execute_result"
    }
   ],
   "source": [
    "rs.get_n_splits(X_train)"
   ]
  },
  {
   "cell_type": "markdown",
   "id": "44c03706",
   "metadata": {},
   "source": [
    "#### Train one tree on each subset, using the best model we previously found. Evaluate the performance of the trees using the test set. Inspect whether the accuracy will increase or decrease."
   ]
  },
  {
   "cell_type": "code",
   "execution_count": 13,
   "id": "e316d4fb",
   "metadata": {},
   "outputs": [],
   "source": [
    "total_score = 0\n",
    "models_list = []\n",
    "\n",
    "for train_index, test_index in rs.split(X_train):\n",
    "    # each iteration we will have 100 randomly choses train indexes\n",
    "    # print(train_index) # Uncomment me for validation  \n",
    "    clf_ = DecisionTreeClassifier(**clf.best_params_)\n",
    "    clf_.fit(X_train.iloc[train_index], y_train.iloc[train_index])\n",
    "    \n",
    "    # Keep record of each model to use later\n",
    "    models_list.append(clf_)\n",
    "    \n",
    "    total_score += clf_.score(X_test, y_test)"
   ]
  },
  {
   "cell_type": "code",
   "execution_count": 14,
   "id": "08c29b90",
   "metadata": {},
   "outputs": [
    {
     "data": {
      "text/plain": [
       "0.7889268888888888"
      ]
     },
     "execution_count": 14,
     "metadata": {},
     "output_type": "execute_result"
    }
   ],
   "source": [
    "avg_score = total_score/rs.get_n_splits(X)\n",
    "\n",
    "# Average score decsreased\n",
    "avg_score"
   ]
  },
  {
   "cell_type": "markdown",
   "id": "184b2f0f",
   "metadata": {},
   "source": [
    "#### For each instance in the test set, predict its class using 1200 trees, and keep only the most frequent prediction. Evaluate these predictions. Did you get lower or higher accuracy?"
   ]
  },
  {
   "cell_type": "code",
   "execution_count": 15,
   "id": "022aabe5",
   "metadata": {},
   "outputs": [],
   "source": [
    "rows = []\n",
    "\n",
    "for model in models_list:\n",
    "    rows.append(model.predict(X_test))\n",
    "\n",
    "# Datafram that contains each models prediction as its row\n",
    "all_preds = pd.DataFrame(rows)"
   ]
  },
  {
   "cell_type": "code",
   "execution_count": 16,
   "id": "350b3152",
   "metadata": {},
   "outputs": [
    {
     "data": {
      "text/html": [
       "<div>\n",
       "<style scoped>\n",
       "    .dataframe tbody tr th:only-of-type {\n",
       "        vertical-align: middle;\n",
       "    }\n",
       "\n",
       "    .dataframe tbody tr th {\n",
       "        vertical-align: top;\n",
       "    }\n",
       "\n",
       "    .dataframe thead th {\n",
       "        text-align: right;\n",
       "    }\n",
       "</style>\n",
       "<table border=\"1\" class=\"dataframe\">\n",
       "  <thead>\n",
       "    <tr style=\"text-align: right;\">\n",
       "      <th></th>\n",
       "      <th>0</th>\n",
       "      <th>1</th>\n",
       "      <th>2</th>\n",
       "      <th>3</th>\n",
       "      <th>4</th>\n",
       "      <th>5</th>\n",
       "      <th>6</th>\n",
       "      <th>7</th>\n",
       "      <th>8</th>\n",
       "      <th>9</th>\n",
       "      <th>...</th>\n",
       "      <th>3740</th>\n",
       "      <th>3741</th>\n",
       "      <th>3742</th>\n",
       "      <th>3743</th>\n",
       "      <th>3744</th>\n",
       "      <th>3745</th>\n",
       "      <th>3746</th>\n",
       "      <th>3747</th>\n",
       "      <th>3748</th>\n",
       "      <th>3749</th>\n",
       "    </tr>\n",
       "  </thead>\n",
       "  <tbody>\n",
       "    <tr>\n",
       "      <th>0</th>\n",
       "      <td>100.0</td>\n",
       "      <td>0.0</td>\n",
       "      <td>0.0</td>\n",
       "      <td>0.0</td>\n",
       "      <td>0.0</td>\n",
       "      <td>100.0</td>\n",
       "      <td>100.0</td>\n",
       "      <td>100.0</td>\n",
       "      <td>0.0</td>\n",
       "      <td>0.0</td>\n",
       "      <td>...</td>\n",
       "      <td>100.0</td>\n",
       "      <td>100.0</td>\n",
       "      <td>0.0</td>\n",
       "      <td>100.0</td>\n",
       "      <td>100.0</td>\n",
       "      <td>0.0</td>\n",
       "      <td>100.0</td>\n",
       "      <td>100.0</td>\n",
       "      <td>0.0</td>\n",
       "      <td>100.0</td>\n",
       "    </tr>\n",
       "    <tr>\n",
       "      <th>1</th>\n",
       "      <td>100.0</td>\n",
       "      <td>0.0</td>\n",
       "      <td>0.0</td>\n",
       "      <td>0.0</td>\n",
       "      <td>0.0</td>\n",
       "      <td>0.0</td>\n",
       "      <td>100.0</td>\n",
       "      <td>100.0</td>\n",
       "      <td>0.0</td>\n",
       "      <td>0.0</td>\n",
       "      <td>...</td>\n",
       "      <td>0.0</td>\n",
       "      <td>100.0</td>\n",
       "      <td>100.0</td>\n",
       "      <td>100.0</td>\n",
       "      <td>100.0</td>\n",
       "      <td>0.0</td>\n",
       "      <td>100.0</td>\n",
       "      <td>100.0</td>\n",
       "      <td>0.0</td>\n",
       "      <td>100.0</td>\n",
       "    </tr>\n",
       "    <tr>\n",
       "      <th>2</th>\n",
       "      <td>100.0</td>\n",
       "      <td>0.0</td>\n",
       "      <td>0.0</td>\n",
       "      <td>0.0</td>\n",
       "      <td>0.0</td>\n",
       "      <td>100.0</td>\n",
       "      <td>100.0</td>\n",
       "      <td>100.0</td>\n",
       "      <td>0.0</td>\n",
       "      <td>0.0</td>\n",
       "      <td>...</td>\n",
       "      <td>100.0</td>\n",
       "      <td>100.0</td>\n",
       "      <td>0.0</td>\n",
       "      <td>100.0</td>\n",
       "      <td>100.0</td>\n",
       "      <td>0.0</td>\n",
       "      <td>100.0</td>\n",
       "      <td>100.0</td>\n",
       "      <td>0.0</td>\n",
       "      <td>0.0</td>\n",
       "    </tr>\n",
       "    <tr>\n",
       "      <th>3</th>\n",
       "      <td>0.0</td>\n",
       "      <td>0.0</td>\n",
       "      <td>0.0</td>\n",
       "      <td>0.0</td>\n",
       "      <td>0.0</td>\n",
       "      <td>100.0</td>\n",
       "      <td>0.0</td>\n",
       "      <td>100.0</td>\n",
       "      <td>0.0</td>\n",
       "      <td>0.0</td>\n",
       "      <td>...</td>\n",
       "      <td>0.0</td>\n",
       "      <td>100.0</td>\n",
       "      <td>0.0</td>\n",
       "      <td>100.0</td>\n",
       "      <td>100.0</td>\n",
       "      <td>0.0</td>\n",
       "      <td>100.0</td>\n",
       "      <td>100.0</td>\n",
       "      <td>0.0</td>\n",
       "      <td>100.0</td>\n",
       "    </tr>\n",
       "    <tr>\n",
       "      <th>4</th>\n",
       "      <td>0.0</td>\n",
       "      <td>0.0</td>\n",
       "      <td>0.0</td>\n",
       "      <td>0.0</td>\n",
       "      <td>0.0</td>\n",
       "      <td>0.0</td>\n",
       "      <td>100.0</td>\n",
       "      <td>100.0</td>\n",
       "      <td>0.0</td>\n",
       "      <td>0.0</td>\n",
       "      <td>...</td>\n",
       "      <td>0.0</td>\n",
       "      <td>100.0</td>\n",
       "      <td>0.0</td>\n",
       "      <td>100.0</td>\n",
       "      <td>100.0</td>\n",
       "      <td>0.0</td>\n",
       "      <td>100.0</td>\n",
       "      <td>100.0</td>\n",
       "      <td>0.0</td>\n",
       "      <td>100.0</td>\n",
       "    </tr>\n",
       "  </tbody>\n",
       "</table>\n",
       "<p>5 rows × 3750 columns</p>\n",
       "</div>"
      ],
      "text/plain": [
       "    0     1     2     3     4      5      6      7     8     9     ...   3740  \\\n",
       "0  100.0   0.0   0.0   0.0   0.0  100.0  100.0  100.0   0.0   0.0  ...  100.0   \n",
       "1  100.0   0.0   0.0   0.0   0.0    0.0  100.0  100.0   0.0   0.0  ...    0.0   \n",
       "2  100.0   0.0   0.0   0.0   0.0  100.0  100.0  100.0   0.0   0.0  ...  100.0   \n",
       "3    0.0   0.0   0.0   0.0   0.0  100.0    0.0  100.0   0.0   0.0  ...    0.0   \n",
       "4    0.0   0.0   0.0   0.0   0.0    0.0  100.0  100.0   0.0   0.0  ...    0.0   \n",
       "\n",
       "    3741   3742   3743   3744  3745   3746   3747  3748   3749  \n",
       "0  100.0    0.0  100.0  100.0   0.0  100.0  100.0   0.0  100.0  \n",
       "1  100.0  100.0  100.0  100.0   0.0  100.0  100.0   0.0  100.0  \n",
       "2  100.0    0.0  100.0  100.0   0.0  100.0  100.0   0.0    0.0  \n",
       "3  100.0    0.0  100.0  100.0   0.0  100.0  100.0   0.0  100.0  \n",
       "4  100.0    0.0  100.0  100.0   0.0  100.0  100.0   0.0  100.0  \n",
       "\n",
       "[5 rows x 3750 columns]"
      ]
     },
     "execution_count": 16,
     "metadata": {},
     "output_type": "execute_result"
    }
   ],
   "source": [
    "all_preds.head()"
   ]
  },
  {
   "cell_type": "code",
   "execution_count": 17,
   "id": "22d37bc2",
   "metadata": {},
   "outputs": [
    {
     "data": {
      "text/html": [
       "<div>\n",
       "<style scoped>\n",
       "    .dataframe tbody tr th:only-of-type {\n",
       "        vertical-align: middle;\n",
       "    }\n",
       "\n",
       "    .dataframe tbody tr th {\n",
       "        vertical-align: top;\n",
       "    }\n",
       "\n",
       "    .dataframe thead th {\n",
       "        text-align: right;\n",
       "    }\n",
       "</style>\n",
       "<table border=\"1\" class=\"dataframe\">\n",
       "  <thead>\n",
       "    <tr style=\"text-align: right;\">\n",
       "      <th></th>\n",
       "      <th>0</th>\n",
       "      <th>1</th>\n",
       "      <th>2</th>\n",
       "      <th>3</th>\n",
       "      <th>4</th>\n",
       "      <th>5</th>\n",
       "      <th>6</th>\n",
       "      <th>7</th>\n",
       "      <th>8</th>\n",
       "      <th>9</th>\n",
       "      <th>...</th>\n",
       "      <th>3740</th>\n",
       "      <th>3741</th>\n",
       "      <th>3742</th>\n",
       "      <th>3743</th>\n",
       "      <th>3744</th>\n",
       "      <th>3745</th>\n",
       "      <th>3746</th>\n",
       "      <th>3747</th>\n",
       "      <th>3748</th>\n",
       "      <th>3749</th>\n",
       "    </tr>\n",
       "  </thead>\n",
       "  <tbody>\n",
       "    <tr>\n",
       "      <th>0</th>\n",
       "      <td>100.0</td>\n",
       "      <td>0.0</td>\n",
       "      <td>0.0</td>\n",
       "      <td>0.0</td>\n",
       "      <td>0.0</td>\n",
       "      <td>0.0</td>\n",
       "      <td>100.0</td>\n",
       "      <td>100.0</td>\n",
       "      <td>0.0</td>\n",
       "      <td>0.0</td>\n",
       "      <td>...</td>\n",
       "      <td>100.0</td>\n",
       "      <td>100.0</td>\n",
       "      <td>0.0</td>\n",
       "      <td>100.0</td>\n",
       "      <td>100.0</td>\n",
       "      <td>0.0</td>\n",
       "      <td>100.0</td>\n",
       "      <td>0.0</td>\n",
       "      <td>0.0</td>\n",
       "      <td>0.0</td>\n",
       "    </tr>\n",
       "  </tbody>\n",
       "</table>\n",
       "<p>1 rows × 3750 columns</p>\n",
       "</div>"
      ],
      "text/plain": [
       "    0     1     2     3     4     5      6      7     8     9     ...   3740  \\\n",
       "0  100.0   0.0   0.0   0.0   0.0   0.0  100.0  100.0   0.0   0.0  ...  100.0   \n",
       "\n",
       "    3741  3742   3743   3744  3745   3746  3747  3748  3749  \n",
       "0  100.0   0.0  100.0  100.0   0.0  100.0   0.0   0.0   0.0  \n",
       "\n",
       "[1 rows x 3750 columns]"
      ]
     },
     "execution_count": 17,
     "metadata": {},
     "output_type": "execute_result"
    }
   ],
   "source": [
    "all_preds.mode()"
   ]
  },
  {
   "cell_type": "code",
   "execution_count": 18,
   "id": "327c8db6",
   "metadata": {},
   "outputs": [],
   "source": [
    "most_frequent_preds = all_preds.mode().iloc[0]"
   ]
  },
  {
   "cell_type": "code",
   "execution_count": 19,
   "id": "fb580278",
   "metadata": {},
   "outputs": [],
   "source": [
    "# Get the non-matched entries\n",
    "different_entries = y_test.reset_index(drop=True).compare(most_frequent_preds)"
   ]
  },
  {
   "cell_type": "code",
   "execution_count": 20,
   "id": "be1c65f4",
   "metadata": {},
   "outputs": [
    {
     "data": {
      "text/plain": [
       "(552, 2)"
      ]
     },
     "execution_count": 20,
     "metadata": {},
     "output_type": "execute_result"
    }
   ],
   "source": [
    "different_entries.shape"
   ]
  },
  {
   "cell_type": "code",
   "execution_count": 21,
   "id": "ab4f84f2",
   "metadata": {},
   "outputs": [
    {
     "data": {
      "text/plain": [
       "0.8528"
      ]
     },
     "execution_count": 21,
     "metadata": {},
     "output_type": "execute_result"
    }
   ],
   "source": [
    "new_score = (y_test.shape[0] - different_entries.shape[0])/y_test.shape[0]\n",
    "\n",
    "# Score increased\n",
    "new_score"
   ]
  },
  {
   "cell_type": "markdown",
   "id": "e5efa6b0",
   "metadata": {},
   "source": [
    "### We successfully built custom DecisionTreeClassifier using 1200 different tree classifier models and acquired the accuracy of 0.8528."
   ]
  }
 ],
 "metadata": {
  "kernelspec": {
   "display_name": "Python 3 (ipykernel)",
   "language": "python",
   "name": "python3"
  },
  "language_info": {
   "codemirror_mode": {
    "name": "ipython",
    "version": 3
   },
   "file_extension": ".py",
   "mimetype": "text/x-python",
   "name": "python",
   "nbconvert_exporter": "python",
   "pygments_lexer": "ipython3",
   "version": "3.9.12"
  }
 },
 "nbformat": 4,
 "nbformat_minor": 5
}
