{
 "cells": [
  {
   "cell_type": "markdown",
   "id": "5b907c66",
   "metadata": {},
   "source": [
    "# 1. Load dataset\n",
    "#### In this notebook, We try to build a model that finds clusters in the given face images dataset.\n",
    "#### We will need to read the data from the archive file (faces.zip). It contains 400 images of 40 persons. Each image is 64x64. zipfile is used for extracting the images, os for iterating the files and PIL for reading the images. Person labels are in the file names. Making sure that the order of images and labels are preserved."
   ]
  },
  {
   "cell_type": "code",
   "execution_count": 1,
   "id": "c3a2c71a",
   "metadata": {},
   "outputs": [],
   "source": [
    "import os\n",
    "import zipfile\n",
    "\n",
    "from PIL import Image\n",
    "\n",
    "import numpy as np\n",
    "import pandas as pd\n",
    "import matplotlib as mpl\n",
    "\n",
    "from sklearn.cluster import KMeans\n",
    "from sklearn.decomposition import PCA\n",
    "from sklearn.pipeline import Pipeline\n",
    "from sklearn.metrics import silhouette_score\n",
    "from sklearn.preprocessing import StandardScaler\n",
    "from sklearn.ensemble import RandomForestClassifier\n",
    "from sklearn.model_selection import StratifiedShuffleSplit, RandomizedSearchCV"
   ]
  },
  {
   "cell_type": "code",
   "execution_count": 2,
   "id": "b09cee66",
   "metadata": {},
   "outputs": [],
   "source": [
    "# Unzip the folder\n",
    "with zipfile.ZipFile('faces.zip') as archive:\n",
    "    archive.extractall('faces')"
   ]
  },
  {
   "cell_type": "code",
   "execution_count": 3,
   "id": "f991c79a",
   "metadata": {},
   "outputs": [],
   "source": [
    "os.chdir('faces/')"
   ]
  },
  {
   "cell_type": "code",
   "execution_count": 4,
   "id": "093e94ff",
   "metadata": {},
   "outputs": [],
   "source": [
    "# this list will hold all the faces\n",
    "faces = []\n",
    "\n",
    "with os.scandir() as files:\n",
    "    for file in files:\n",
    "        if file.name.endswith('.png'):\n",
    "            faces.append(file.name)"
   ]
  },
  {
   "cell_type": "markdown",
   "id": "9e4f2b70",
   "metadata": {},
   "source": [
    "## Forming the dataset"
   ]
  },
  {
   "cell_type": "code",
   "execution_count": 5,
   "id": "ed56f00d",
   "metadata": {},
   "outputs": [],
   "source": [
    "rows, labels = [], []\n",
    "\n",
    "for face in faces:\n",
    "    img = Image.open(face)\n",
    "    pixel_values = list(img.getdata())\n",
    "    \n",
    "    rows.append(pixel_values)\n",
    "    labels.append(int(face.split('_')[0]))\n",
    "\n",
    "# Form the dataset with each row being image itself and each column column being a single pixel value of the image\n",
    "df = pd.DataFrame(rows)"
   ]
  },
  {
   "cell_type": "markdown",
   "id": "d35fc8ee",
   "metadata": {},
   "source": [
    "# 2. Prepare dataset\n",
    "#### Normalize the dataset (for this instance, we should normalize the whole dataset before split). Split the dataset into train (280 instances), validation (80 instances) and test sets (40 instances). When splitting, make sure there are same number of images per person in each set."
   ]
  },
  {
   "cell_type": "code",
   "execution_count": 6,
   "id": "a2ae5631",
   "metadata": {},
   "outputs": [],
   "source": [
    "# Scale the pixel range to 0 - 1\n",
    "norm_df = df.apply(lambda x: x/255)"
   ]
  },
  {
   "cell_type": "code",
   "execution_count": 7,
   "id": "b3a8d5d8",
   "metadata": {},
   "outputs": [],
   "source": [
    "X, y = norm_df, np.array(labels)"
   ]
  },
  {
   "cell_type": "code",
   "execution_count": 8,
   "id": "b67487f6",
   "metadata": {},
   "outputs": [],
   "source": [
    "# Used stratisfied shuffle to split classes evenly. Needed two split for validation and test\n",
    "sss = StratifiedShuffleSplit(n_splits=1, test_size=0.1, random_state=9)\n",
    "sss_val = StratifiedShuffleSplit(n_splits=1, test_size=80, random_state=9)"
   ]
  },
  {
   "cell_type": "code",
   "execution_count": 9,
   "id": "ef869a7a",
   "metadata": {},
   "outputs": [],
   "source": [
    "# train test split\n",
    "train_index, test_index = list(sss.split(X, y))[0]\n",
    "\n",
    "X_train_val, y_train_val = X.iloc[train_index], y[train_index]\n",
    "X_test, y_test = X.iloc[test_index], y[test_index]"
   ]
  },
  {
   "cell_type": "code",
   "execution_count": 10,
   "id": "410c75e4",
   "metadata": {},
   "outputs": [],
   "source": [
    "# train validation split\n",
    "tr_index, val_index = list(sss_val.split(X_train_val, y_train_val))[0]\n",
    "\n",
    "X_train, y_train = X_train_val.iloc[tr_index], y_train_val[tr_index]\n",
    "X_val, y_val = X_train_val.iloc[val_index], y_train_val[val_index]"
   ]
  },
  {
   "cell_type": "code",
   "execution_count": 11,
   "id": "06caf96b",
   "metadata": {},
   "outputs": [
    {
     "data": {
      "text/plain": [
       "(280, 4096)"
      ]
     },
     "execution_count": 11,
     "metadata": {},
     "output_type": "execute_result"
    }
   ],
   "source": [
    "X_train.shape"
   ]
  },
  {
   "cell_type": "code",
   "execution_count": 12,
   "id": "79fcb1fd",
   "metadata": {},
   "outputs": [
    {
     "data": {
      "text/plain": [
       "(80, 4096)"
      ]
     },
     "execution_count": 12,
     "metadata": {},
     "output_type": "execute_result"
    }
   ],
   "source": [
    "X_val.shape"
   ]
  },
  {
   "cell_type": "code",
   "execution_count": 13,
   "id": "508be26f",
   "metadata": {},
   "outputs": [
    {
     "data": {
      "text/plain": [
       "(40, 4096)"
      ]
     },
     "execution_count": 13,
     "metadata": {},
     "output_type": "execute_result"
    }
   ],
   "source": [
    "X_test.shape"
   ]
  },
  {
   "cell_type": "code",
   "execution_count": 14,
   "id": "01b522b7",
   "metadata": {},
   "outputs": [
    {
     "data": {
      "text/plain": [
       "array([ 0,  1,  2,  3,  4,  5,  6,  7,  8,  9, 10, 11, 12, 13, 14, 15, 16,\n",
       "       17, 18, 19, 20, 21, 22, 23, 24, 25, 26, 27, 28, 29, 30, 31, 32, 33,\n",
       "       34, 35, 36, 37, 38, 39])"
      ]
     },
     "execution_count": 14,
     "metadata": {},
     "output_type": "execute_result"
    }
   ],
   "source": [
    "# Prove that the data is splitted in a balanced way\n",
    "np.sort(y_test)"
   ]
  },
  {
   "cell_type": "code",
   "execution_count": 15,
   "id": "816b5a94",
   "metadata": {},
   "outputs": [
    {
     "data": {
      "text/html": [
       "<div>\n",
       "<style scoped>\n",
       "    .dataframe tbody tr th:only-of-type {\n",
       "        vertical-align: middle;\n",
       "    }\n",
       "\n",
       "    .dataframe tbody tr th {\n",
       "        vertical-align: top;\n",
       "    }\n",
       "\n",
       "    .dataframe thead th {\n",
       "        text-align: right;\n",
       "    }\n",
       "</style>\n",
       "<table border=\"1\" class=\"dataframe\">\n",
       "  <thead>\n",
       "    <tr style=\"text-align: right;\">\n",
       "      <th></th>\n",
       "      <th>0</th>\n",
       "      <th>1</th>\n",
       "      <th>2</th>\n",
       "      <th>3</th>\n",
       "      <th>4</th>\n",
       "      <th>5</th>\n",
       "      <th>6</th>\n",
       "      <th>7</th>\n",
       "      <th>8</th>\n",
       "      <th>9</th>\n",
       "      <th>...</th>\n",
       "      <th>4086</th>\n",
       "      <th>4087</th>\n",
       "      <th>4088</th>\n",
       "      <th>4089</th>\n",
       "      <th>4090</th>\n",
       "      <th>4091</th>\n",
       "      <th>4092</th>\n",
       "      <th>4093</th>\n",
       "      <th>4094</th>\n",
       "      <th>4095</th>\n",
       "    </tr>\n",
       "  </thead>\n",
       "  <tbody>\n",
       "    <tr>\n",
       "      <th>23</th>\n",
       "      <td>0.231373</td>\n",
       "      <td>0.282353</td>\n",
       "      <td>0.349020</td>\n",
       "      <td>0.431373</td>\n",
       "      <td>0.470588</td>\n",
       "      <td>0.509804</td>\n",
       "      <td>0.549020</td>\n",
       "      <td>0.572549</td>\n",
       "      <td>0.580392</td>\n",
       "      <td>0.600000</td>\n",
       "      <td>...</td>\n",
       "      <td>0.666667</td>\n",
       "      <td>0.635294</td>\n",
       "      <td>0.509804</td>\n",
       "      <td>0.223529</td>\n",
       "      <td>0.160784</td>\n",
       "      <td>0.168627</td>\n",
       "      <td>0.180392</td>\n",
       "      <td>0.180392</td>\n",
       "      <td>0.172549</td>\n",
       "      <td>0.180392</td>\n",
       "    </tr>\n",
       "    <tr>\n",
       "      <th>291</th>\n",
       "      <td>0.752941</td>\n",
       "      <td>0.749020</td>\n",
       "      <td>0.741176</td>\n",
       "      <td>0.745098</td>\n",
       "      <td>0.749020</td>\n",
       "      <td>0.745098</td>\n",
       "      <td>0.745098</td>\n",
       "      <td>0.745098</td>\n",
       "      <td>0.745098</td>\n",
       "      <td>0.749020</td>\n",
       "      <td>...</td>\n",
       "      <td>0.352941</td>\n",
       "      <td>0.274510</td>\n",
       "      <td>0.113725</td>\n",
       "      <td>0.125490</td>\n",
       "      <td>0.262745</td>\n",
       "      <td>0.349020</td>\n",
       "      <td>0.352941</td>\n",
       "      <td>0.305882</td>\n",
       "      <td>0.298039</td>\n",
       "      <td>0.341176</td>\n",
       "    </tr>\n",
       "    <tr>\n",
       "      <th>256</th>\n",
       "      <td>0.125490</td>\n",
       "      <td>0.192157</td>\n",
       "      <td>0.392157</td>\n",
       "      <td>0.517647</td>\n",
       "      <td>0.568627</td>\n",
       "      <td>0.568627</td>\n",
       "      <td>0.560784</td>\n",
       "      <td>0.545098</td>\n",
       "      <td>0.541176</td>\n",
       "      <td>0.556863</td>\n",
       "      <td>...</td>\n",
       "      <td>0.239216</td>\n",
       "      <td>0.247059</td>\n",
       "      <td>0.250980</td>\n",
       "      <td>0.250980</td>\n",
       "      <td>0.266667</td>\n",
       "      <td>0.278431</td>\n",
       "      <td>0.294118</td>\n",
       "      <td>0.298039</td>\n",
       "      <td>0.298039</td>\n",
       "      <td>0.305882</td>\n",
       "    </tr>\n",
       "    <tr>\n",
       "      <th>105</th>\n",
       "      <td>0.498039</td>\n",
       "      <td>0.486275</td>\n",
       "      <td>0.525490</td>\n",
       "      <td>0.517647</td>\n",
       "      <td>0.529412</td>\n",
       "      <td>0.525490</td>\n",
       "      <td>0.572549</td>\n",
       "      <td>0.627451</td>\n",
       "      <td>0.643137</td>\n",
       "      <td>0.623529</td>\n",
       "      <td>...</td>\n",
       "      <td>0.145098</td>\n",
       "      <td>0.149020</td>\n",
       "      <td>0.231373</td>\n",
       "      <td>0.294118</td>\n",
       "      <td>0.262745</td>\n",
       "      <td>0.250980</td>\n",
       "      <td>0.250980</td>\n",
       "      <td>0.262745</td>\n",
       "      <td>0.247059</td>\n",
       "      <td>0.266667</td>\n",
       "    </tr>\n",
       "    <tr>\n",
       "      <th>8</th>\n",
       "      <td>0.580392</td>\n",
       "      <td>0.690196</td>\n",
       "      <td>0.705882</td>\n",
       "      <td>0.725490</td>\n",
       "      <td>0.725490</td>\n",
       "      <td>0.733333</td>\n",
       "      <td>0.733333</td>\n",
       "      <td>0.756863</td>\n",
       "      <td>0.760784</td>\n",
       "      <td>0.749020</td>\n",
       "      <td>...</td>\n",
       "      <td>0.482353</td>\n",
       "      <td>0.505882</td>\n",
       "      <td>0.474510</td>\n",
       "      <td>0.192157</td>\n",
       "      <td>0.031373</td>\n",
       "      <td>0.192157</td>\n",
       "      <td>0.380392</td>\n",
       "      <td>0.352941</td>\n",
       "      <td>0.454902</td>\n",
       "      <td>0.635294</td>\n",
       "    </tr>\n",
       "    <tr>\n",
       "      <th>...</th>\n",
       "      <td>...</td>\n",
       "      <td>...</td>\n",
       "      <td>...</td>\n",
       "      <td>...</td>\n",
       "      <td>...</td>\n",
       "      <td>...</td>\n",
       "      <td>...</td>\n",
       "      <td>...</td>\n",
       "      <td>...</td>\n",
       "      <td>...</td>\n",
       "      <td>...</td>\n",
       "      <td>...</td>\n",
       "      <td>...</td>\n",
       "      <td>...</td>\n",
       "      <td>...</td>\n",
       "      <td>...</td>\n",
       "      <td>...</td>\n",
       "      <td>...</td>\n",
       "      <td>...</td>\n",
       "      <td>...</td>\n",
       "      <td>...</td>\n",
       "    </tr>\n",
       "    <tr>\n",
       "      <th>267</th>\n",
       "      <td>0.129412</td>\n",
       "      <td>0.101961</td>\n",
       "      <td>0.086275</td>\n",
       "      <td>0.109804</td>\n",
       "      <td>0.109804</td>\n",
       "      <td>0.113725</td>\n",
       "      <td>0.172549</td>\n",
       "      <td>0.396078</td>\n",
       "      <td>0.556863</td>\n",
       "      <td>0.596078</td>\n",
       "      <td>...</td>\n",
       "      <td>0.450980</td>\n",
       "      <td>0.450980</td>\n",
       "      <td>0.466667</td>\n",
       "      <td>0.478431</td>\n",
       "      <td>0.443137</td>\n",
       "      <td>0.439216</td>\n",
       "      <td>0.431373</td>\n",
       "      <td>0.423529</td>\n",
       "      <td>0.447059</td>\n",
       "      <td>0.431373</td>\n",
       "    </tr>\n",
       "    <tr>\n",
       "      <th>24</th>\n",
       "      <td>0.411765</td>\n",
       "      <td>0.454902</td>\n",
       "      <td>0.494118</td>\n",
       "      <td>0.537255</td>\n",
       "      <td>0.560784</td>\n",
       "      <td>0.576471</td>\n",
       "      <td>0.592157</td>\n",
       "      <td>0.600000</td>\n",
       "      <td>0.615686</td>\n",
       "      <td>0.611765</td>\n",
       "      <td>...</td>\n",
       "      <td>0.419608</td>\n",
       "      <td>0.423529</td>\n",
       "      <td>0.431373</td>\n",
       "      <td>0.439216</td>\n",
       "      <td>0.443137</td>\n",
       "      <td>0.380392</td>\n",
       "      <td>0.494118</td>\n",
       "      <td>0.627451</td>\n",
       "      <td>0.529412</td>\n",
       "      <td>0.419608</td>\n",
       "    </tr>\n",
       "    <tr>\n",
       "      <th>250</th>\n",
       "      <td>0.400000</td>\n",
       "      <td>0.439216</td>\n",
       "      <td>0.462745</td>\n",
       "      <td>0.474510</td>\n",
       "      <td>0.498039</td>\n",
       "      <td>0.490196</td>\n",
       "      <td>0.498039</td>\n",
       "      <td>0.537255</td>\n",
       "      <td>0.525490</td>\n",
       "      <td>0.498039</td>\n",
       "      <td>...</td>\n",
       "      <td>0.592157</td>\n",
       "      <td>0.650980</td>\n",
       "      <td>0.650980</td>\n",
       "      <td>0.643137</td>\n",
       "      <td>0.647059</td>\n",
       "      <td>0.670588</td>\n",
       "      <td>0.466667</td>\n",
       "      <td>0.286275</td>\n",
       "      <td>0.419608</td>\n",
       "      <td>0.470588</td>\n",
       "    </tr>\n",
       "    <tr>\n",
       "      <th>2</th>\n",
       "      <td>0.313725</td>\n",
       "      <td>0.333333</td>\n",
       "      <td>0.349020</td>\n",
       "      <td>0.356863</td>\n",
       "      <td>0.407843</td>\n",
       "      <td>0.443137</td>\n",
       "      <td>0.521569</td>\n",
       "      <td>0.580392</td>\n",
       "      <td>0.627451</td>\n",
       "      <td>0.658824</td>\n",
       "      <td>...</td>\n",
       "      <td>0.552941</td>\n",
       "      <td>0.666667</td>\n",
       "      <td>0.709804</td>\n",
       "      <td>0.666667</td>\n",
       "      <td>0.733333</td>\n",
       "      <td>0.729412</td>\n",
       "      <td>0.717647</td>\n",
       "      <td>0.568627</td>\n",
       "      <td>0.701961</td>\n",
       "      <td>0.745098</td>\n",
       "    </tr>\n",
       "    <tr>\n",
       "      <th>184</th>\n",
       "      <td>0.337255</td>\n",
       "      <td>0.321569</td>\n",
       "      <td>0.152941</td>\n",
       "      <td>0.149020</td>\n",
       "      <td>0.141176</td>\n",
       "      <td>0.129412</td>\n",
       "      <td>0.180392</td>\n",
       "      <td>0.290196</td>\n",
       "      <td>0.415686</td>\n",
       "      <td>0.501961</td>\n",
       "      <td>...</td>\n",
       "      <td>0.427451</td>\n",
       "      <td>0.443137</td>\n",
       "      <td>0.443137</td>\n",
       "      <td>0.466667</td>\n",
       "      <td>0.313725</td>\n",
       "      <td>0.160784</td>\n",
       "      <td>0.192157</td>\n",
       "      <td>0.192157</td>\n",
       "      <td>0.215686</td>\n",
       "      <td>0.239216</td>\n",
       "    </tr>\n",
       "  </tbody>\n",
       "</table>\n",
       "<p>280 rows × 4096 columns</p>\n",
       "</div>"
      ],
      "text/plain": [
       "         0         1         2         3         4         5         6     \\\n",
       "23   0.231373  0.282353  0.349020  0.431373  0.470588  0.509804  0.549020   \n",
       "291  0.752941  0.749020  0.741176  0.745098  0.749020  0.745098  0.745098   \n",
       "256  0.125490  0.192157  0.392157  0.517647  0.568627  0.568627  0.560784   \n",
       "105  0.498039  0.486275  0.525490  0.517647  0.529412  0.525490  0.572549   \n",
       "8    0.580392  0.690196  0.705882  0.725490  0.725490  0.733333  0.733333   \n",
       "..        ...       ...       ...       ...       ...       ...       ...   \n",
       "267  0.129412  0.101961  0.086275  0.109804  0.109804  0.113725  0.172549   \n",
       "24   0.411765  0.454902  0.494118  0.537255  0.560784  0.576471  0.592157   \n",
       "250  0.400000  0.439216  0.462745  0.474510  0.498039  0.490196  0.498039   \n",
       "2    0.313725  0.333333  0.349020  0.356863  0.407843  0.443137  0.521569   \n",
       "184  0.337255  0.321569  0.152941  0.149020  0.141176  0.129412  0.180392   \n",
       "\n",
       "         7         8         9     ...      4086      4087      4088  \\\n",
       "23   0.572549  0.580392  0.600000  ...  0.666667  0.635294  0.509804   \n",
       "291  0.745098  0.745098  0.749020  ...  0.352941  0.274510  0.113725   \n",
       "256  0.545098  0.541176  0.556863  ...  0.239216  0.247059  0.250980   \n",
       "105  0.627451  0.643137  0.623529  ...  0.145098  0.149020  0.231373   \n",
       "8    0.756863  0.760784  0.749020  ...  0.482353  0.505882  0.474510   \n",
       "..        ...       ...       ...  ...       ...       ...       ...   \n",
       "267  0.396078  0.556863  0.596078  ...  0.450980  0.450980  0.466667   \n",
       "24   0.600000  0.615686  0.611765  ...  0.419608  0.423529  0.431373   \n",
       "250  0.537255  0.525490  0.498039  ...  0.592157  0.650980  0.650980   \n",
       "2    0.580392  0.627451  0.658824  ...  0.552941  0.666667  0.709804   \n",
       "184  0.290196  0.415686  0.501961  ...  0.427451  0.443137  0.443137   \n",
       "\n",
       "         4089      4090      4091      4092      4093      4094      4095  \n",
       "23   0.223529  0.160784  0.168627  0.180392  0.180392  0.172549  0.180392  \n",
       "291  0.125490  0.262745  0.349020  0.352941  0.305882  0.298039  0.341176  \n",
       "256  0.250980  0.266667  0.278431  0.294118  0.298039  0.298039  0.305882  \n",
       "105  0.294118  0.262745  0.250980  0.250980  0.262745  0.247059  0.266667  \n",
       "8    0.192157  0.031373  0.192157  0.380392  0.352941  0.454902  0.635294  \n",
       "..        ...       ...       ...       ...       ...       ...       ...  \n",
       "267  0.478431  0.443137  0.439216  0.431373  0.423529  0.447059  0.431373  \n",
       "24   0.439216  0.443137  0.380392  0.494118  0.627451  0.529412  0.419608  \n",
       "250  0.643137  0.647059  0.670588  0.466667  0.286275  0.419608  0.470588  \n",
       "2    0.666667  0.733333  0.729412  0.717647  0.568627  0.701961  0.745098  \n",
       "184  0.466667  0.313725  0.160784  0.192157  0.192157  0.215686  0.239216  \n",
       "\n",
       "[280 rows x 4096 columns]"
      ]
     },
     "execution_count": 15,
     "metadata": {},
     "output_type": "execute_result"
    }
   ],
   "source": [
    "# X_train"
   ]
  },
  {
   "cell_type": "markdown",
   "id": "c681edc9",
   "metadata": {},
   "source": [
    "# 3. PCA\n",
    "#### Apply PCA on the data while preserving 99% of the variance."
   ]
  },
  {
   "cell_type": "code",
   "execution_count": 16,
   "id": "db54cbcc",
   "metadata": {},
   "outputs": [],
   "source": [
    "pca_breast = PCA(n_components=200)\n",
    "\n",
    "pca_trans = pca_breast.fit_transform(X_train)"
   ]
  },
  {
   "cell_type": "code",
   "execution_count": 17,
   "id": "7c120f83",
   "metadata": {},
   "outputs": [],
   "source": [
    "variance = sum(pca_breast.explained_variance_ratio_)\n",
    "# variance"
   ]
  },
  {
   "cell_type": "code",
   "execution_count": 18,
   "id": "cab1ace3",
   "metadata": {},
   "outputs": [],
   "source": [
    "pca_val = pca_breast.transform(X_val)"
   ]
  },
  {
   "cell_type": "code",
   "execution_count": 19,
   "id": "5a9dd57b",
   "metadata": {},
   "outputs": [],
   "source": [
    "pca_test = pca_breast.transform(X_test)"
   ]
  },
  {
   "cell_type": "code",
   "execution_count": 20,
   "id": "edbf6596",
   "metadata": {},
   "outputs": [],
   "source": [
    "pca_df = pca_breast.transform(X)"
   ]
  },
  {
   "cell_type": "markdown",
   "id": "f592f765",
   "metadata": {},
   "source": [
    "# 4. Clustering\n",
    "#### Apply k-means clustering with different k values (e.g., from 5 to 150, with step size of 5).  Also, saving the models for later use."
   ]
  },
  {
   "cell_type": "code",
   "execution_count": 21,
   "id": "b43b871c",
   "metadata": {},
   "outputs": [],
   "source": [
    "dist = []\n",
    "k_means_models = []\n",
    "\n",
    "for k in range(5, 151, 5):\n",
    "    k_means = KMeans(\n",
    "        init=\"random\",\n",
    "        n_clusters=k,\n",
    "        n_init=10,\n",
    "        max_iter=300,\n",
    "        random_state=42\n",
    "    )\n",
    "    \n",
    "    k_means.fit_transform(pca_trans)\n",
    "    \n",
    "    # Log the distance for Elbow and model itself for further evaluation     \n",
    "    dist.append(k_means.inertia_)\n",
    "    k_means_models.append(k_means)"
   ]
  },
  {
   "cell_type": "code",
   "execution_count": 22,
   "id": "f7857452",
   "metadata": {},
   "outputs": [
    {
     "name": "stdout",
     "output_type": "stream",
     "text": [
      "Score:  -1701.9479301608715\n",
      "Score:  -1486.9958377097828\n",
      "Score:  -1411.956087142115\n",
      "Score:  -1432.971454107749\n",
      "Score:  -1328.4887478106436\n",
      "Score:  -1288.0294449513308\n",
      "Score:  -1288.7232557245188\n",
      "Score:  -1194.2872754613472\n",
      "Score:  -1192.8055838517503\n",
      "Score:  -1206.790025651237\n",
      "Score:  -1079.086983524125\n",
      "Score:  -1136.2191957764317\n",
      "Score:  -1086.6240119007095\n",
      "Score:  -1088.2467774036381\n",
      "Score:  -1073.6480712922942\n",
      "Score:  -1081.2774822128288\n",
      "Score:  -1045.2719952758214\n",
      "Score:  -965.0826243454517\n",
      "Score:  -946.715983182848\n",
      "Score:  -948.2151060291848\n",
      "Score:  -966.7991397607782\n",
      "Score:  -964.1235745628315\n",
      "Score:  -956.9327118784734\n",
      "Score:  -971.6473807885386\n",
      "Score:  -962.3262423517033\n",
      "Score:  -963.3394376409149\n",
      "Score:  -942.6988637920206\n",
      "Score:  -936.0465734125617\n",
      "Score:  -923.7647983793956\n",
      "Score:  -922.41335439172\n"
     ]
    }
   ],
   "source": [
    "for i in k_means_models:\n",
    "    print('Score: ', i.score(pca_test, y_test))"
   ]
  },
  {
   "cell_type": "markdown",
   "id": "7393aa42",
   "metadata": {},
   "source": [
    "# 5. Analysis\n",
    "#### Draw the elbow plot and silhouette scores plot."
   ]
  },
  {
   "cell_type": "code",
   "execution_count": 23,
   "id": "5e53f5cf",
   "metadata": {
    "scrolled": false
   },
   "outputs": [
    {
     "data": {
      "image/png": "[encoded data removed]",
      "text/plain": [
       "<Figure size 1152x576 with 1 Axes>"
      ]
     },
     "metadata": {
      "needs_background": "light"
     },
     "output_type": "display_data"
    }
   ],
   "source": [
    "import matplotlib.pyplot as plt\n",
    "\n",
    "plt.figure(figsize=(16, 8))\n",
    "plt.plot(range(5, 151, 5), dist, 'bx-')\n",
    "plt.xlabel('k')\n",
    "plt.ylabel('Distortion')\n",
    "plt.title('The Elbow Method showing the optimal k')\n",
    "plt.show()"
   ]
  },
  {
   "cell_type": "code",
   "execution_count": 24,
   "id": "7172849b",
   "metadata": {},
   "outputs": [],
   "source": [
    "# Best model is approximately when k=80 which is 15th indexed model\n",
    "df_trans = k_means_models[15].transform(pca_df)"
   ]
  },
  {
   "cell_type": "code",
   "execution_count": 26,
   "id": "9fe7f933",
   "metadata": {},
   "outputs": [],
   "source": [
    "min_distances = df_trans.min(axis=1)\n",
    "# min_distances, which will be used to add a new feature for classification algorithm"
   ]
  },
  {
   "cell_type": "code",
   "execution_count": 27,
   "id": "1592118c",
   "metadata": {},
   "outputs": [],
   "source": [
    "# Silhouette score calculation\n",
    "scores = []\n",
    "\n",
    "for model, idx in zip(k_means_models, range(5, 151, 5)):\n",
    "    val_score = silhouette_score(pca_val, model.predict(pca_val))\n",
    "    test_score = silhouette_score(pca_test, model.predict(pca_test))\n",
    "    \n",
    "#     print('Silhouette Score for validation data: ', val_score)\n",
    "#     print('Silhouette Score for test data: ', test_score)\n",
    "    \n",
    "    scores.append([val_score, test_score, idx])"
   ]
  },
  {
   "cell_type": "code",
   "execution_count": 28,
   "id": "9cc65ce1",
   "metadata": {},
   "outputs": [
    {
     "data": {
      "text/plain": [
       "[[0.10669091848241899, 0.09449575409589042, 5],\n",
       " [0.08761999420168973, 0.002447415282558957, 55],\n",
       " [0.08587173009756506, 0.02806624075687141, 40],\n",
       " [0.0826442880806995, -0.014953382331185386, 50],\n",
       " [0.08031378714195489, 0.01779646991012896, 45],\n",
       " [0.07997852098423343, -0.03336436540765745, 65]]"
      ]
     },
     "execution_count": 28,
     "metadata": {},
     "output_type": "execute_result"
    }
   ],
   "source": [
    "# Best Silhouette scores for validation dataset\n",
    "sorted(scores, reverse=True, key=lambda x: x[0])[:6]"
   ]
  },
  {
   "cell_type": "markdown",
   "id": "f7639610",
   "metadata": {},
   "source": [
    "#### Visualize the clusters (for 40 clusters and best k that we found from silhouette scores) to see whether there are similar faces in each cluster."
   ]
  },
  {
   "cell_type": "code",
   "execution_count": 45,
   "id": "40c32afc",
   "metadata": {},
   "outputs": [
    {
     "data": {
      "image/png": "[encoded data removed]",
      "text/plain": [
       "<Figure size 1296x936 with 6 Axes>"
      ]
     },
     "metadata": {
      "needs_background": "light"
     },
     "output_type": "display_data"
    }
   ],
   "source": [
    "from sklearn.metrics import silhouette_samples\n",
    "from matplotlib.ticker import FixedLocator, FixedFormatter\n",
    "\n",
    "plt.figure(figsize=(18, 13))\n",
    "\n",
    "for idx, k in enumerate((1, 8, 9, 10, 11, 16)):\n",
    "    plt.subplot(2, 3, idx + 1)\n",
    "\n",
    "    y_pred = k_means_models[k - 1].labels_\n",
    "    silhouette_coefficients = silhouette_samples(X_train, y_pred)\n",
    "\n",
    "    padding = len(X) // 30\n",
    "    pos = padding\n",
    "    ticks = []\n",
    "    for i in range(k):\n",
    "        coeffs = silhouette_coefficients[y_pred == i]\n",
    "        coeffs.sort()\n",
    "\n",
    "        color = mpl.cm.Spectral(i / k)\n",
    "        plt.fill_betweenx(np.arange(pos, pos + len(coeffs)), 0, coeffs,\n",
    "                          facecolor=color, edgecolor=color, alpha=0.7)\n",
    "        ticks.append(pos + len(coeffs) // 2)\n",
    "        pos += len(coeffs) + padding\n",
    "\n",
    "    plt.gca().yaxis.set_major_locator(FixedLocator(ticks))\n",
    "    plt.gca().yaxis.set_major_formatter(FixedFormatter(range(k)))\n",
    "    if k in (3, 5):\n",
    "        plt.ylabel(\"Cluster\")\n",
    "\n",
    "    if k in (5, 6):\n",
    "        plt.gca().set_xticks([-0.1, 0, 0.2, 0.4, 0.6, 0.8, 1])\n",
    "        plt.xlabel(\"Silhouette Coefficient\")\n",
    "    else:\n",
    "        plt.tick_params(labelbottom=False)\n",
    "\n",
    "    plt.axvline(x=silhouette_coefficients[k - 2], color=\"red\", linestyle=\"--\")\n",
    "    plt.title(\"$k={}$\".format((k + 1)*5), fontsize=16)\n",
    "\n",
    "plt.show()"
   ]
  },
  {
   "cell_type": "markdown",
   "id": "2979df4c",
   "metadata": {},
   "source": [
    "# 6. Classification\n",
    "#### Train a classifier on the train data to predict person on the image."
   ]
  },
  {
   "cell_type": "markdown",
   "id": "29f37084",
   "metadata": {},
   "source": [
    "#### Use best k-means model as a dimensionality reduction technique to reduce the dataset and train a classifier on the reduced data. Data will have shape (280, number of clusters in the best model)."
   ]
  },
  {
   "cell_type": "markdown",
   "id": "33fd7bee",
   "metadata": {},
   "source": [
    "#### Create a pipeline to reduce the data (with k-means) with different numbers of clusters and train a classifier. Find out which value of k gives the best classification result."
   ]
  },
  {
   "cell_type": "code",
   "execution_count": 30,
   "id": "b3d63da1",
   "metadata": {},
   "outputs": [],
   "source": [
    "pipe = Pipeline(\n",
    "    [\n",
    "        ('scaler', StandardScaler()),\n",
    "        ('pca', PCA()),\n",
    "        ('random_forest', RandomForestClassifier())\n",
    "    ]\n",
    ")"
   ]
  },
  {
   "cell_type": "code",
   "execution_count": 31,
   "id": "3452494f",
   "metadata": {},
   "outputs": [],
   "source": [
    "# If multiple preprocessing is done inside pipeline, the hyperparameters should be \n",
    "# given as: <estimator_name>__<hyper_parameter>\n",
    "pipe_params = {\n",
    "    'pca__n_components': [20, 30, 40, 50, 60, 100, 200],\n",
    "    'random_forest__n_estimators': [100, 200, 300, 400], \n",
    "    'random_forest__max_depth': [5, 7, 9, 11, 13, 15],\n",
    "    'random_forest__criterion': ['gini', 'entropy']\n",
    "}\n",
    "\n",
    "pipe_clf = RandomizedSearchCV(pipe, pipe_params, cv=5)"
   ]
  },
  {
   "cell_type": "code",
   "execution_count": 32,
   "id": "722c37c1",
   "metadata": {},
   "outputs": [
    {
     "data": {
      "text/plain": [
       "RandomizedSearchCV(cv=5,\n",
       "                   estimator=Pipeline(steps=[('scaler', StandardScaler()),\n",
       "                                             ('pca', PCA()),\n",
       "                                             ('random_forest',\n",
       "                                              RandomForestClassifier())]),\n",
       "                   param_distributions={'pca__n_components': [20, 30, 40, 50,\n",
       "                                                              60, 100, 200],\n",
       "                                        'random_forest__criterion': ['gini',\n",
       "                                                                     'entropy'],\n",
       "                                        'random_forest__max_depth': [5, 7, 9,\n",
       "                                                                     11, 13,\n",
       "                                                                     15],\n",
       "                                        'random_forest__n_estimators': [100,\n",
       "                                                                        200,\n",
       "                                                                        300,\n",
       "                                                                        400]})"
      ]
     },
     "execution_count": 32,
     "metadata": {},
     "output_type": "execute_result"
    }
   ],
   "source": [
    "# Find the best model hyperparameters\n",
    "pipe_clf.fit(X_train, y_train)"
   ]
  },
  {
   "cell_type": "code",
   "execution_count": 33,
   "id": "f949bb3a",
   "metadata": {},
   "outputs": [
    {
     "data": {
      "text/plain": [
       "{'random_forest__n_estimators': 300,\n",
       " 'random_forest__max_depth': 13,\n",
       " 'random_forest__criterion': 'entropy',\n",
       " 'pca__n_components': 50}"
      ]
     },
     "execution_count": 33,
     "metadata": {},
     "output_type": "execute_result"
    }
   ],
   "source": [
    "pipe_clf.best_params_"
   ]
  },
  {
   "cell_type": "code",
   "execution_count": 34,
   "id": "96fe5d61",
   "metadata": {},
   "outputs": [
    {
     "data": {
      "text/plain": [
       "0.95"
      ]
     },
     "execution_count": 34,
     "metadata": {},
     "output_type": "execute_result"
    }
   ],
   "source": [
    "# Accuracy on the validation data\n",
    "pipe_clf.score(X_val, y_val)"
   ]
  },
  {
   "cell_type": "code",
   "execution_count": 35,
   "id": "0ecd080f",
   "metadata": {},
   "outputs": [
    {
     "data": {
      "text/plain": [
       "0.975"
      ]
     },
     "execution_count": 35,
     "metadata": {},
     "output_type": "execute_result"
    }
   ],
   "source": [
    "# Accuracy on the test data\n",
    "pipe_clf.score(X_test, y_test)"
   ]
  },
  {
   "cell_type": "markdown",
   "id": "c876c2af",
   "metadata": {},
   "source": [
    "#### Add new features to original set of features and check again to see whether better result than the case without new features can be achieved?"
   ]
  },
  {
   "cell_type": "code",
   "execution_count": 36,
   "id": "2665b1ac",
   "metadata": {},
   "outputs": [],
   "source": [
    "# prevent feature warning: Got feature names with dtypes: ['int', 'str']\n",
    "X[4096] = min_distances"
   ]
  },
  {
   "cell_type": "code",
   "execution_count": 37,
   "id": "645a8e75",
   "metadata": {},
   "outputs": [
    {
     "data": {
      "text/html": [
       "<div>\n",
       "<style scoped>\n",
       "    .dataframe tbody tr th:only-of-type {\n",
       "        vertical-align: middle;\n",
       "    }\n",
       "\n",
       "    .dataframe tbody tr th {\n",
       "        vertical-align: top;\n",
       "    }\n",
       "\n",
       "    .dataframe thead th {\n",
       "        text-align: right;\n",
       "    }\n",
       "</style>\n",
       "<table border=\"1\" class=\"dataframe\">\n",
       "  <thead>\n",
       "    <tr style=\"text-align: right;\">\n",
       "      <th></th>\n",
       "      <th>0</th>\n",
       "      <th>1</th>\n",
       "      <th>2</th>\n",
       "      <th>3</th>\n",
       "      <th>4</th>\n",
       "      <th>5</th>\n",
       "      <th>6</th>\n",
       "      <th>7</th>\n",
       "      <th>8</th>\n",
       "      <th>9</th>\n",
       "      <th>...</th>\n",
       "      <th>4087</th>\n",
       "      <th>4088</th>\n",
       "      <th>4089</th>\n",
       "      <th>4090</th>\n",
       "      <th>4091</th>\n",
       "      <th>4092</th>\n",
       "      <th>4093</th>\n",
       "      <th>4094</th>\n",
       "      <th>4095</th>\n",
       "      <th>4096</th>\n",
       "    </tr>\n",
       "  </thead>\n",
       "  <tbody>\n",
       "    <tr>\n",
       "      <th>0</th>\n",
       "      <td>0.360784</td>\n",
       "      <td>0.419608</td>\n",
       "      <td>0.458824</td>\n",
       "      <td>0.517647</td>\n",
       "      <td>0.552941</td>\n",
       "      <td>0.596078</td>\n",
       "      <td>0.615686</td>\n",
       "      <td>0.643137</td>\n",
       "      <td>0.654902</td>\n",
       "      <td>0.674510</td>\n",
       "      <td>...</td>\n",
       "      <td>0.149020</td>\n",
       "      <td>0.156863</td>\n",
       "      <td>0.141176</td>\n",
       "      <td>0.156863</td>\n",
       "      <td>0.164706</td>\n",
       "      <td>0.164706</td>\n",
       "      <td>0.164706</td>\n",
       "      <td>0.164706</td>\n",
       "      <td>0.164706</td>\n",
       "      <td>6.004826</td>\n",
       "    </tr>\n",
       "    <tr>\n",
       "      <th>1</th>\n",
       "      <td>0.458824</td>\n",
       "      <td>0.498039</td>\n",
       "      <td>0.525490</td>\n",
       "      <td>0.552941</td>\n",
       "      <td>0.576471</td>\n",
       "      <td>0.592157</td>\n",
       "      <td>0.607843</td>\n",
       "      <td>0.627451</td>\n",
       "      <td>0.635294</td>\n",
       "      <td>0.639216</td>\n",
       "      <td>...</td>\n",
       "      <td>0.333333</td>\n",
       "      <td>0.243137</td>\n",
       "      <td>0.262745</td>\n",
       "      <td>0.262745</td>\n",
       "      <td>0.270588</td>\n",
       "      <td>0.266667</td>\n",
       "      <td>0.262745</td>\n",
       "      <td>0.266667</td>\n",
       "      <td>0.266667</td>\n",
       "      <td>5.480865</td>\n",
       "    </tr>\n",
       "    <tr>\n",
       "      <th>2</th>\n",
       "      <td>0.313725</td>\n",
       "      <td>0.333333</td>\n",
       "      <td>0.349020</td>\n",
       "      <td>0.356863</td>\n",
       "      <td>0.407843</td>\n",
       "      <td>0.443137</td>\n",
       "      <td>0.521569</td>\n",
       "      <td>0.580392</td>\n",
       "      <td>0.627451</td>\n",
       "      <td>0.658824</td>\n",
       "      <td>...</td>\n",
       "      <td>0.666667</td>\n",
       "      <td>0.709804</td>\n",
       "      <td>0.666667</td>\n",
       "      <td>0.733333</td>\n",
       "      <td>0.729412</td>\n",
       "      <td>0.717647</td>\n",
       "      <td>0.568627</td>\n",
       "      <td>0.701961</td>\n",
       "      <td>0.745098</td>\n",
       "      <td>5.982345</td>\n",
       "    </tr>\n",
       "    <tr>\n",
       "      <th>3</th>\n",
       "      <td>0.474510</td>\n",
       "      <td>0.509804</td>\n",
       "      <td>0.501961</td>\n",
       "      <td>0.498039</td>\n",
       "      <td>0.525490</td>\n",
       "      <td>0.576471</td>\n",
       "      <td>0.607843</td>\n",
       "      <td>0.619608</td>\n",
       "      <td>0.627451</td>\n",
       "      <td>0.650980</td>\n",
       "      <td>...</td>\n",
       "      <td>0.250980</td>\n",
       "      <td>0.247059</td>\n",
       "      <td>0.317647</td>\n",
       "      <td>0.400000</td>\n",
       "      <td>0.325490</td>\n",
       "      <td>0.454902</td>\n",
       "      <td>0.494118</td>\n",
       "      <td>0.568627</td>\n",
       "      <td>0.364706</td>\n",
       "      <td>3.707716</td>\n",
       "    </tr>\n",
       "    <tr>\n",
       "      <th>4</th>\n",
       "      <td>0.360784</td>\n",
       "      <td>0.219608</td>\n",
       "      <td>0.231373</td>\n",
       "      <td>0.501961</td>\n",
       "      <td>0.752941</td>\n",
       "      <td>0.733333</td>\n",
       "      <td>0.737255</td>\n",
       "      <td>0.745098</td>\n",
       "      <td>0.737255</td>\n",
       "      <td>0.776471</td>\n",
       "      <td>...</td>\n",
       "      <td>0.211765</td>\n",
       "      <td>0.243137</td>\n",
       "      <td>0.152941</td>\n",
       "      <td>0.156863</td>\n",
       "      <td>0.223529</td>\n",
       "      <td>0.188235</td>\n",
       "      <td>0.176471</td>\n",
       "      <td>0.168627</td>\n",
       "      <td>0.164706</td>\n",
       "      <td>3.057324</td>\n",
       "    </tr>\n",
       "  </tbody>\n",
       "</table>\n",
       "<p>5 rows × 4097 columns</p>\n",
       "</div>"
      ],
      "text/plain": [
       "       0         1         2         3         4         5         6     \\\n",
       "0  0.360784  0.419608  0.458824  0.517647  0.552941  0.596078  0.615686   \n",
       "1  0.458824  0.498039  0.525490  0.552941  0.576471  0.592157  0.607843   \n",
       "2  0.313725  0.333333  0.349020  0.356863  0.407843  0.443137  0.521569   \n",
       "3  0.474510  0.509804  0.501961  0.498039  0.525490  0.576471  0.607843   \n",
       "4  0.360784  0.219608  0.231373  0.501961  0.752941  0.733333  0.737255   \n",
       "\n",
       "       7         8         9     ...      4087      4088      4089      4090  \\\n",
       "0  0.643137  0.654902  0.674510  ...  0.149020  0.156863  0.141176  0.156863   \n",
       "1  0.627451  0.635294  0.639216  ...  0.333333  0.243137  0.262745  0.262745   \n",
       "2  0.580392  0.627451  0.658824  ...  0.666667  0.709804  0.666667  0.733333   \n",
       "3  0.619608  0.627451  0.650980  ...  0.250980  0.247059  0.317647  0.400000   \n",
       "4  0.745098  0.737255  0.776471  ...  0.211765  0.243137  0.152941  0.156863   \n",
       "\n",
       "       4091      4092      4093      4094      4095      4096  \n",
       "0  0.164706  0.164706  0.164706  0.164706  0.164706  6.004826  \n",
       "1  0.270588  0.266667  0.262745  0.266667  0.266667  5.480865  \n",
       "2  0.729412  0.717647  0.568627  0.701961  0.745098  5.982345  \n",
       "3  0.325490  0.454902  0.494118  0.568627  0.364706  3.707716  \n",
       "4  0.223529  0.188235  0.176471  0.168627  0.164706  3.057324  \n",
       "\n",
       "[5 rows x 4097 columns]"
      ]
     },
     "execution_count": 37,
     "metadata": {},
     "output_type": "execute_result"
    }
   ],
   "source": [
    "X.head()"
   ]
  },
  {
   "cell_type": "code",
   "execution_count": 38,
   "id": "048711bf",
   "metadata": {},
   "outputs": [],
   "source": [
    "X_train_val, y_train_val = X.iloc[train_index], y[train_index]\n",
    "X_test, y_test = X.iloc[test_index], y[test_index]"
   ]
  },
  {
   "cell_type": "code",
   "execution_count": 39,
   "id": "349df073",
   "metadata": {},
   "outputs": [],
   "source": [
    "X_train, y_train = X_train_val.iloc[tr_index], y_train_val[tr_index]\n",
    "X_val, y_val = X_train_val.iloc[val_index], y_train_val[val_index]"
   ]
  },
  {
   "cell_type": "markdown",
   "id": "23dfa440",
   "metadata": {},
   "source": [
    "## New classifier with additional feature"
   ]
  },
  {
   "cell_type": "code",
   "execution_count": 40,
   "id": "f43f9260",
   "metadata": {},
   "outputs": [],
   "source": [
    "pipe2_clf = RandomizedSearchCV(pipe, pipe_params, cv=5)"
   ]
  },
  {
   "cell_type": "code",
   "execution_count": 41,
   "id": "76a8bc07",
   "metadata": {},
   "outputs": [
    {
     "data": {
      "text/plain": [
       "RandomizedSearchCV(cv=5,\n",
       "                   estimator=Pipeline(steps=[('scaler', StandardScaler()),\n",
       "                                             ('pca', PCA()),\n",
       "                                             ('random_forest',\n",
       "                                              RandomForestClassifier())]),\n",
       "                   param_distributions={'pca__n_components': [20, 30, 40, 50,\n",
       "                                                              60, 100, 200],\n",
       "                                        'random_forest__criterion': ['gini',\n",
       "                                                                     'entropy'],\n",
       "                                        'random_forest__max_depth': [5, 7, 9,\n",
       "                                                                     11, 13,\n",
       "                                                                     15],\n",
       "                                        'random_forest__n_estimators': [100,\n",
       "                                                                        200,\n",
       "                                                                        300,\n",
       "                                                                        400]})"
      ]
     },
     "execution_count": 41,
     "metadata": {},
     "output_type": "execute_result"
    }
   ],
   "source": [
    "# Find the best model hyperparameters\n",
    "pipe2_clf.fit(X_train, y_train)"
   ]
  },
  {
   "cell_type": "code",
   "execution_count": 42,
   "id": "6bd1be60",
   "metadata": {},
   "outputs": [
    {
     "data": {
      "text/plain": [
       "{'random_forest__n_estimators': 300,\n",
       " 'random_forest__max_depth': 5,\n",
       " 'random_forest__criterion': 'entropy',\n",
       " 'pca__n_components': 200}"
      ]
     },
     "execution_count": 42,
     "metadata": {},
     "output_type": "execute_result"
    }
   ],
   "source": [
    "pipe2_clf.best_params_"
   ]
  },
  {
   "cell_type": "code",
   "execution_count": 43,
   "id": "dc218e9b",
   "metadata": {},
   "outputs": [
    {
     "data": {
      "text/plain": [
       "0.9625"
      ]
     },
     "execution_count": 43,
     "metadata": {},
     "output_type": "execute_result"
    }
   ],
   "source": [
    "pipe2_clf.score(X_val, y_val)"
   ]
  },
  {
   "cell_type": "code",
   "execution_count": 44,
   "id": "5fa0c7c1",
   "metadata": {},
   "outputs": [
    {
     "data": {
      "text/plain": [
       "0.975"
      ]
     },
     "execution_count": 44,
     "metadata": {},
     "output_type": "execute_result"
    }
   ],
   "source": [
    "pipe2_clf.score(X_test, y_test)"
   ]
  },
  {
   "cell_type": "markdown",
   "id": "9fbe28ed",
   "metadata": {},
   "source": [
    "***Notes***\n",
    "- Model performance increased from 0.95 to 0.975 when introduced with extra feature of min distances to each centroid\n",
    "- Best parameters for model also changed in accordance with new feature"
   ]
  }
 ],
 "metadata": {
  "kernelspec": {
   "display_name": "Python 3.10.1 64-bit",
   "language": "python",
   "name": "python3"
  },
  "language_info": {
   "codemirror_mode": {
    "name": "ipython",
    "version": 3
   },
   "file_extension": ".py",
   "mimetype": "text/x-python",
   "name": "python",
   "nbconvert_exporter": "python",
   "pygments_lexer": "ipython3",
   "version": "3.10.1"
  },
  "vscode": {
   "interpreter": {
    "hash": "949777d72b0d2535278d3dc13498b2535136f6dfe0678499012e853ee9abcab1"
   }
  }
 },
 "nbformat": 4,
 "nbformat_minor": 5
}
